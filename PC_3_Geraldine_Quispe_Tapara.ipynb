{
  "nbformat": 4,
  "nbformat_minor": 0,
  "metadata": {
    "colab": {
      "provenance": [],
      "toc_visible": true,
      "authorship_tag": "ABX9TyP0GJ8Jw2AUNePmzfMgzn2V",
      "include_colab_link": true
    },
    "kernelspec": {
      "name": "python3",
      "display_name": "Python 3"
    },
    "language_info": {
      "name": "python"
    }
  },
  "cells": [
    {
      "cell_type": "markdown",
      "metadata": {
        "id": "view-in-github",
        "colab_type": "text"
      },
      "source": [
        "<a href=\"https://colab.research.google.com/github/GeraldineQuispeT/Programacion101_UTEC/blob/main/PC_3_Geraldine_Quispe_Tapara.ipynb\" target=\"_parent\"><img src=\"https://colab.research.google.com/assets/colab-badge.svg\" alt=\"Open In Colab\"/></a>"
      ]
    },
    {
      "cell_type": "code",
      "execution_count": null,
      "metadata": {
        "id": "Pe1EQYWGJnNl"
      },
      "outputs": [],
      "source": []
    },
    {
      "cell_type": "code",
      "source": [
        "import numpy as np"
      ],
      "metadata": {
        "id": "gjwwcY5IJwne"
      },
      "execution_count": 1,
      "outputs": []
    },
    {
      "cell_type": "markdown",
      "source": [
        "## Pregunta 1"
      ],
      "metadata": {
        "id": "yyUjTHVnJxec"
      }
    },
    {
      "cell_type": "markdown",
      "source": [
        "a) Crea un array unidimensional que contenga los números primos entre 1 y 50."
      ],
      "metadata": {
        "id": "K-vPaYtGJqWX"
      }
    },
    {
      "cell_type": "code",
      "source": [
        "array_1d = np.arange(1,51)\n",
        "array_1d"
      ],
      "metadata": {
        "colab": {
          "base_uri": "https://localhost:8080/"
        },
        "id": "232iWWZhJ537",
        "outputId": "7ee73e38-9a7e-4e2a-cb40-fb9dbf332008"
      },
      "execution_count": 6,
      "outputs": [
        {
          "output_type": "execute_result",
          "data": {
            "text/plain": [
              "array([ 1,  2,  3,  4,  5,  6,  7,  8,  9, 10, 11, 12, 13, 14, 15, 16, 17,\n",
              "       18, 19, 20, 21, 22, 23, 24, 25, 26, 27, 28, 29, 30, 31, 32, 33, 34,\n",
              "       35, 36, 37, 38, 39, 40, 41, 42, 43, 44, 45, 46, 47, 48, 49, 50])"
            ]
          },
          "metadata": {},
          "execution_count": 6
        }
      ]
    },
    {
      "cell_type": "code",
      "source": [
        "def es_primo(numero): #se genera la funcion para determinar si el numero es primo o no\n",
        "  if numero < 2:\n",
        "    return False\n",
        "  else:\n",
        "    for i in range(2, numero):\n",
        "      if numero % i == 0:\n",
        "        return False\n",
        "    return True"
      ],
      "metadata": {
        "id": "LX8-DJhuKv0k"
      },
      "execution_count": 7,
      "outputs": []
    },
    {
      "cell_type": "code",
      "source": [
        "array_1d_primos = np.array([numero for numero in array_1d if es_primo(numero)])\n",
        "array_1d_primos"
      ],
      "metadata": {
        "colab": {
          "base_uri": "https://localhost:8080/"
        },
        "id": "wMK0YA_eKJa0",
        "outputId": "a8447ce4-3b91-4615-9a0b-a929ce0af189"
      },
      "execution_count": 10,
      "outputs": [
        {
          "output_type": "execute_result",
          "data": {
            "text/plain": [
              "array([ 2,  3,  5,  7, 11, 13, 17, 19, 23, 29, 31, 37, 41, 43, 47])"
            ]
          },
          "metadata": {},
          "execution_count": 10
        }
      ]
    },
    {
      "cell_type": "markdown",
      "source": [
        "b) Convierte el array unidimensional anterior en una matriz de forma (n, 2), donde n es el número adecuado de\n",
        "filas. Si es necesario, agrega ceros al final del array para completar la matriz."
      ],
      "metadata": {
        "id": "VufBkO6zJ1Qd"
      }
    },
    {
      "cell_type": "code",
      "source": [
        "array_1d_primos.shape[0]%2 #al ser diferente de cero es necesario agregar un cero para tener un numero igual de filas"
      ],
      "metadata": {
        "colab": {
          "base_uri": "https://localhost:8080/"
        },
        "id": "YLkFaYMULx98",
        "outputId": "f3e9605d-e036-4fdf-cf37-ef8c87333686"
      },
      "execution_count": 13,
      "outputs": [
        {
          "output_type": "execute_result",
          "data": {
            "text/plain": [
              "1"
            ]
          },
          "metadata": {},
          "execution_count": 13
        }
      ]
    },
    {
      "cell_type": "code",
      "source": [
        "array_1d_primos_= np.concatenate((array_1d_primos, [0]))\n",
        "array_1d_primos_ = array_1d_primos_.reshape(int(array_1d_primos_.shape[0]/2), 2)\n",
        "array_1d_primos_"
      ],
      "metadata": {
        "colab": {
          "base_uri": "https://localhost:8080/"
        },
        "id": "avi8WcHFJzgQ",
        "outputId": "aa18de46-0bdb-4873-ab17-1b23727f4be2"
      },
      "execution_count": 22,
      "outputs": [
        {
          "output_type": "execute_result",
          "data": {
            "text/plain": [
              "array([[ 2,  3],\n",
              "       [ 5,  7],\n",
              "       [11, 13],\n",
              "       [17, 19],\n",
              "       [23, 29],\n",
              "       [31, 37],\n",
              "       [41, 43],\n",
              "       [47,  0]])"
            ]
          },
          "metadata": {},
          "execution_count": 22
        }
      ]
    },
    {
      "cell_type": "code",
      "source": [
        "array_1d_primos_.shape"
      ],
      "metadata": {
        "colab": {
          "base_uri": "https://localhost:8080/"
        },
        "id": "IuCOVTm1NBz8",
        "outputId": "e19dde8f-3524-454c-8bfc-13cf5f59a7a8"
      },
      "execution_count": 23,
      "outputs": [
        {
          "output_type": "execute_result",
          "data": {
            "text/plain": [
              "(8, 2)"
            ]
          },
          "metadata": {},
          "execution_count": 23
        }
      ]
    },
    {
      "cell_type": "markdown",
      "source": [
        "c) Calcula la suma de cada fila y crea un nuevo array que contenga estos valores.\n"
      ],
      "metadata": {
        "id": "Z6BdlWKaJ3v0"
      }
    },
    {
      "cell_type": "code",
      "source": [
        "sum_filas = np.sum(array_1d_primos_,axis=1)\n",
        "sum_filas"
      ],
      "metadata": {
        "colab": {
          "base_uri": "https://localhost:8080/"
        },
        "id": "8eNdT1DdJ5Ok",
        "outputId": "a63853f7-e694-469a-8d3a-6cdd55da1631"
      },
      "execution_count": 24,
      "outputs": [
        {
          "output_type": "execute_result",
          "data": {
            "text/plain": [
              "array([ 5, 12, 24, 36, 52, 68, 84, 47])"
            ]
          },
          "metadata": {},
          "execution_count": 24
        }
      ]
    },
    {
      "cell_type": "code",
      "source": [],
      "metadata": {
        "id": "59OhxKv4NNmO"
      },
      "execution_count": null,
      "outputs": []
    },
    {
      "cell_type": "markdown",
      "source": [
        "## Pregunta 2"
      ],
      "metadata": {
        "id": "mZj1AuwxNSTF"
      }
    },
    {
      "cell_type": "markdown",
      "source": [
        "a) Crea un array bidimensional de forma (4, 4) que contenga números enteros aleatorios entre 1 y 100."
      ],
      "metadata": {
        "id": "0bNmISbXNV31"
      }
    },
    {
      "cell_type": "code",
      "source": [
        "array_aleat = np.random.randint(1,100, (4,4))\n",
        "array_aleat"
      ],
      "metadata": {
        "colab": {
          "base_uri": "https://localhost:8080/"
        },
        "id": "bEIdAVfKNUhP",
        "outputId": "c46ac972-8a14-45bc-a6bb-7adc28b957ea"
      },
      "execution_count": 26,
      "outputs": [
        {
          "output_type": "execute_result",
          "data": {
            "text/plain": [
              "array([[62, 22, 14, 50],\n",
              "       [29, 97, 81, 83],\n",
              "       [29,  2, 83,  6],\n",
              "       [63, 44, 45, 94]])"
            ]
          },
          "metadata": {},
          "execution_count": 26
        }
      ]
    },
    {
      "cell_type": "markdown",
      "source": [
        "b) Cambia el tipo de datos del array a float64 y divide todos los elementos por 3.7."
      ],
      "metadata": {
        "id": "RuVwccBvNaGw"
      }
    },
    {
      "cell_type": "code",
      "source": [
        "array_aleat = array_aleat.astype(np.float64)\n",
        "array_aleat/3.7"
      ],
      "metadata": {
        "colab": {
          "base_uri": "https://localhost:8080/"
        },
        "id": "V9EpvB_aNbDU",
        "outputId": "04a51c34-ce83-4929-f0b8-25b9e0aa3ba3"
      },
      "execution_count": 28,
      "outputs": [
        {
          "output_type": "execute_result",
          "data": {
            "text/plain": [
              "array([[16.75675676,  5.94594595,  3.78378378, 13.51351351],\n",
              "       [ 7.83783784, 26.21621622, 21.89189189, 22.43243243],\n",
              "       [ 7.83783784,  0.54054054, 22.43243243,  1.62162162],\n",
              "       [17.02702703, 11.89189189, 12.16216216, 25.40540541]])"
            ]
          },
          "metadata": {},
          "execution_count": 28
        }
      ]
    },
    {
      "cell_type": "markdown",
      "source": [
        "c) Calcula y muestra las siguientes propiedades del array resultante:\n",
        "● Dimensiones (ndim)\n",
        "● Forma (shape)\n",
        "● Tamaño total (size)\n",
        "● Tipo de datos (dtype"
      ],
      "metadata": {
        "id": "Cu0zLZ_-NbdE"
      }
    },
    {
      "cell_type": "code",
      "source": [
        "print(f'Las dimensiones de la matriz son: {array_aleat.ndim}')\n",
        "print(f'La forma de la matriz son: {array_aleat.shape}')\n",
        "print(f'El tamaño total de la matriz son: {array_aleat.size}')\n",
        "print(f'Los tipos de datos de la matriz son: {array_aleat.dtype}')"
      ],
      "metadata": {
        "colab": {
          "base_uri": "https://localhost:8080/"
        },
        "id": "moh0jvpWNbvV",
        "outputId": "c635d5dd-38e8-4b05-92ab-1964e39cf97a"
      },
      "execution_count": 31,
      "outputs": [
        {
          "output_type": "stream",
          "name": "stdout",
          "text": [
            "Las dimensiones de la matriz son: 2\n",
            "La forma de la matriz son: (4, 4)\n",
            "El tamaño total de la matriz son: 16\n",
            "Los tipos de datos de la matriz son: float64\n"
          ]
        }
      ]
    },
    {
      "cell_type": "code",
      "source": [],
      "metadata": {
        "id": "ko-nWS7KOIoi"
      },
      "execution_count": null,
      "outputs": []
    },
    {
      "cell_type": "markdown",
      "source": [
        "## Pregunta 3"
      ],
      "metadata": {
        "id": "pCfuZOf6OVd0"
      }
    },
    {
      "cell_type": "markdown",
      "source": [
        "a) Crea un array x que contenga 100 valores equiespaciados entre -10 y 10."
      ],
      "metadata": {
        "id": "el7T6DwuOYJu"
      }
    },
    {
      "cell_type": "code",
      "source": [
        "array_x = np.linspace(-10,10,100)\n",
        "array_x"
      ],
      "metadata": {
        "colab": {
          "base_uri": "https://localhost:8080/"
        },
        "id": "Rt47_WEPOeIN",
        "outputId": "804f762a-5b91-4362-b3a2-fafcd9d58f54"
      },
      "execution_count": 32,
      "outputs": [
        {
          "output_type": "execute_result",
          "data": {
            "text/plain": [
              "array([-10.        ,  -9.7979798 ,  -9.5959596 ,  -9.39393939,\n",
              "        -9.19191919,  -8.98989899,  -8.78787879,  -8.58585859,\n",
              "        -8.38383838,  -8.18181818,  -7.97979798,  -7.77777778,\n",
              "        -7.57575758,  -7.37373737,  -7.17171717,  -6.96969697,\n",
              "        -6.76767677,  -6.56565657,  -6.36363636,  -6.16161616,\n",
              "        -5.95959596,  -5.75757576,  -5.55555556,  -5.35353535,\n",
              "        -5.15151515,  -4.94949495,  -4.74747475,  -4.54545455,\n",
              "        -4.34343434,  -4.14141414,  -3.93939394,  -3.73737374,\n",
              "        -3.53535354,  -3.33333333,  -3.13131313,  -2.92929293,\n",
              "        -2.72727273,  -2.52525253,  -2.32323232,  -2.12121212,\n",
              "        -1.91919192,  -1.71717172,  -1.51515152,  -1.31313131,\n",
              "        -1.11111111,  -0.90909091,  -0.70707071,  -0.50505051,\n",
              "        -0.3030303 ,  -0.1010101 ,   0.1010101 ,   0.3030303 ,\n",
              "         0.50505051,   0.70707071,   0.90909091,   1.11111111,\n",
              "         1.31313131,   1.51515152,   1.71717172,   1.91919192,\n",
              "         2.12121212,   2.32323232,   2.52525253,   2.72727273,\n",
              "         2.92929293,   3.13131313,   3.33333333,   3.53535354,\n",
              "         3.73737374,   3.93939394,   4.14141414,   4.34343434,\n",
              "         4.54545455,   4.74747475,   4.94949495,   5.15151515,\n",
              "         5.35353535,   5.55555556,   5.75757576,   5.95959596,\n",
              "         6.16161616,   6.36363636,   6.56565657,   6.76767677,\n",
              "         6.96969697,   7.17171717,   7.37373737,   7.57575758,\n",
              "         7.77777778,   7.97979798,   8.18181818,   8.38383838,\n",
              "         8.58585859,   8.78787879,   8.98989899,   9.19191919,\n",
              "         9.39393939,   9.5959596 ,   9.7979798 ,  10.        ])"
            ]
          },
          "metadata": {},
          "execution_count": 32
        }
      ]
    },
    {
      "cell_type": "markdown",
      "source": [
        "b) Calcula el valor de la función f(x)=e**(-x**2) para cada elemento de x."
      ],
      "metadata": {
        "id": "sqHENp22OaRk"
      }
    },
    {
      "cell_type": "code",
      "source": [
        "fx = np.exp(array_x**2)\n",
        "fx"
      ],
      "metadata": {
        "colab": {
          "base_uri": "https://localhost:8080/"
        },
        "id": "DpoiTPvPObRg",
        "outputId": "4178f3f6-b735-43e4-963b-61dd972c85b5"
      },
      "execution_count": 34,
      "outputs": [
        {
          "output_type": "execute_result",
          "data": {
            "text/plain": [
              "array([2.68811714e+43, 4.92546807e+41, 9.79255047e+39, 2.11248251e+38,\n",
              "       4.94469400e+36, 1.25584116e+35, 3.46081988e+33, 1.03483778e+32,\n",
              "       3.35748861e+30, 1.18196826e+29, 4.51487855e+27, 1.87126513e+26,\n",
              "       8.41537689e+24, 4.10639583e+23, 2.17418775e+22, 1.24905704e+21,\n",
              "       7.78603749e+19, 5.26622857e+18, 3.86484349e+17, 3.07760666e+16,\n",
              "       2.65915288e+15, 2.49300124e+14, 2.53600833e+13, 2.79916082e+12,\n",
              "       3.35238601e+11, 4.35641436e+10, 6.14261558e+09, 9.39780622e+08,\n",
              "       1.56008632e+08, 2.81008699e+07, 5.49211843e+06, 1.16468643e+06,\n",
              "       2.67995273e+05, 6.69104951e+04, 1.81263494e+04, 5.32813775e+03,\n",
              "       1.69937621e+03, 5.88101949e+02, 2.20833368e+02, 8.99758106e+01,\n",
              "       3.97773487e+01, 1.90807258e+01, 9.93122778e+00, 5.60867129e+00,\n",
              "       3.43689312e+00, 2.28518339e+00, 1.64863716e+00, 1.29055972e+00,\n",
              "       1.09617557e+00, 1.01025527e+00, 1.01025527e+00, 1.09617557e+00,\n",
              "       1.29055972e+00, 1.64863716e+00, 2.28518339e+00, 3.43689312e+00,\n",
              "       5.60867129e+00, 9.93122778e+00, 1.90807258e+01, 3.97773487e+01,\n",
              "       8.99758106e+01, 2.20833368e+02, 5.88101949e+02, 1.69937621e+03,\n",
              "       5.32813775e+03, 1.81263494e+04, 6.69104951e+04, 2.67995273e+05,\n",
              "       1.16468643e+06, 5.49211843e+06, 2.81008699e+07, 1.56008632e+08,\n",
              "       9.39780622e+08, 6.14261558e+09, 4.35641436e+10, 3.35238601e+11,\n",
              "       2.79916082e+12, 2.53600833e+13, 2.49300124e+14, 2.65915288e+15,\n",
              "       3.07760666e+16, 3.86484349e+17, 5.26622857e+18, 7.78603749e+19,\n",
              "       1.24905704e+21, 2.17418775e+22, 4.10639583e+23, 8.41537689e+24,\n",
              "       1.87126513e+26, 4.51487855e+27, 1.18196826e+29, 3.35748861e+30,\n",
              "       1.03483778e+32, 3.46081988e+33, 1.25584116e+35, 4.94469400e+36,\n",
              "       2.11248251e+38, 9.79255047e+39, 4.92546807e+41, 2.68811714e+43])"
            ]
          },
          "metadata": {},
          "execution_count": 34
        }
      ]
    },
    {
      "cell_type": "markdown",
      "source": [
        "\n",
        "c) Encuentra el valor máximo y mínimo de f(x) y las posiciones en el array donde ocurren"
      ],
      "metadata": {
        "id": "U-ZpflLJObrk"
      }
    },
    {
      "cell_type": "code",
      "source": [
        "posiciones_maximo = np.where(fx == fx.max())[0]\n",
        "posiciones_minimo = np.where(fx == fx.min())[0]"
      ],
      "metadata": {
        "id": "EzFlZEWlPryG"
      },
      "execution_count": 47,
      "outputs": []
    },
    {
      "cell_type": "code",
      "source": [
        "posiciones_maximo"
      ],
      "metadata": {
        "colab": {
          "base_uri": "https://localhost:8080/"
        },
        "id": "biri9I9rOcNC",
        "outputId": "1c41e3a1-950f-4154-ec86-5e6b7f558a3b"
      },
      "execution_count": 48,
      "outputs": [
        {
          "output_type": "execute_result",
          "data": {
            "text/plain": [
              "array([ 0, 99])"
            ]
          },
          "metadata": {},
          "execution_count": 48
        }
      ]
    },
    {
      "cell_type": "code",
      "source": [
        "posiciones_minimo"
      ],
      "metadata": {
        "colab": {
          "base_uri": "https://localhost:8080/"
        },
        "id": "W5HZL0f5PJN8",
        "outputId": "b8011030-67fe-411c-9faf-347fb5e39dce"
      },
      "execution_count": 49,
      "outputs": [
        {
          "output_type": "execute_result",
          "data": {
            "text/plain": [
              "array([49, 50])"
            ]
          },
          "metadata": {},
          "execution_count": 49
        }
      ]
    },
    {
      "cell_type": "code",
      "source": [],
      "metadata": {
        "id": "JhRyoVCwQZ5t"
      },
      "execution_count": null,
      "outputs": []
    },
    {
      "cell_type": "markdown",
      "source": [
        "## Pregunta 4"
      ],
      "metadata": {
        "id": "f1CQo3j9Qeb_"
      }
    },
    {
      "cell_type": "markdown",
      "source": [
        "\n",
        "a) Extrae un subarray que contenga los elementos en posiciones pares de filas y columnas (es decir, filas y\n",
        "columnas con índices 0, 2, 4, 6, 8)."
      ],
      "metadata": {
        "id": "ZMvyaKx4Qmqn"
      }
    },
    {
      "cell_type": "code",
      "source": [
        "array_1 = np.arange(1, 101).reshape(10, 10)\n",
        "array_1"
      ],
      "metadata": {
        "colab": {
          "base_uri": "https://localhost:8080/"
        },
        "id": "wrTCZ87SQhJo",
        "outputId": "2e5016b8-481b-40e6-9912-96d495ec13ae"
      },
      "execution_count": 57,
      "outputs": [
        {
          "output_type": "execute_result",
          "data": {
            "text/plain": [
              "array([[  1,   2,   3,   4,   5,   6,   7,   8,   9,  10],\n",
              "       [ 11,  12,  13,  14,  15,  16,  17,  18,  19,  20],\n",
              "       [ 21,  22,  23,  24,  25,  26,  27,  28,  29,  30],\n",
              "       [ 31,  32,  33,  34,  35,  36,  37,  38,  39,  40],\n",
              "       [ 41,  42,  43,  44,  45,  46,  47,  48,  49,  50],\n",
              "       [ 51,  52,  53,  54,  55,  56,  57,  58,  59,  60],\n",
              "       [ 61,  62,  63,  64,  65,  66,  67,  68,  69,  70],\n",
              "       [ 71,  72,  73,  74,  75,  76,  77,  78,  79,  80],\n",
              "       [ 81,  82,  83,  84,  85,  86,  87,  88,  89,  90],\n",
              "       [ 91,  92,  93,  94,  95,  96,  97,  98,  99, 100]])"
            ]
          },
          "metadata": {},
          "execution_count": 57
        }
      ]
    },
    {
      "cell_type": "code",
      "source": [
        "subarray = array_1[::2, ::2]\n",
        "print(\"Subarray:\\n\", subarray)"
      ],
      "metadata": {
        "colab": {
          "base_uri": "https://localhost:8080/"
        },
        "id": "Py7qHzOzQ-Sd",
        "outputId": "f6363cb7-a156-468d-e55d-9813b462ce8c"
      },
      "execution_count": 58,
      "outputs": [
        {
          "output_type": "stream",
          "name": "stdout",
          "text": [
            "Subarray:\n",
            " [[ 1  3  5  7  9]\n",
            " [21 23 25 27 29]\n",
            " [41 43 45 47 49]\n",
            " [61 63 65 67 69]\n",
            " [81 83 85 87 89]]\n"
          ]
        }
      ]
    },
    {
      "cell_type": "markdown",
      "source": [
        "b) Reemplaza todos los elementos que son múltiplos de 3 por -1."
      ],
      "metadata": {
        "id": "M0zEZSFqQpS_"
      }
    },
    {
      "cell_type": "code",
      "source": [
        "subarray[subarray % 3 == 0] = -1\n",
        "subarray"
      ],
      "metadata": {
        "colab": {
          "base_uri": "https://localhost:8080/"
        },
        "id": "_P6W53ZWQqRs",
        "outputId": "19ff0780-a120-4c17-f235-96216fbd1ef4"
      },
      "execution_count": 59,
      "outputs": [
        {
          "output_type": "execute_result",
          "data": {
            "text/plain": [
              "array([[ 1, -1,  5,  7, -1],\n",
              "       [-1, 23, 25, -1, 29],\n",
              "       [41, 43, -1, 47, 49],\n",
              "       [61, -1, 65, 67, -1],\n",
              "       [-1, 83, 85, -1, 89]])"
            ]
          },
          "metadata": {},
          "execution_count": 59
        }
      ]
    },
    {
      "cell_type": "markdown",
      "source": [
        "c) Utiliza indexación avanzada para extraer todos los números primos del array original y crea un nuevo array\n",
        "con estos valores."
      ],
      "metadata": {
        "id": "nOkOjOsAQqtF"
      }
    },
    {
      "cell_type": "code",
      "source": [
        "array_1_primos = np.array([numero for numero in array_1.flat if es_primo(numero)])\n",
        "array_1_primos"
      ],
      "metadata": {
        "colab": {
          "base_uri": "https://localhost:8080/"
        },
        "id": "ha_C3yJASGLX",
        "outputId": "1b118146-7cd2-4a11-d643-121b3a83c641"
      },
      "execution_count": 63,
      "outputs": [
        {
          "output_type": "execute_result",
          "data": {
            "text/plain": [
              "array([ 2,  5,  7, 11, 13, 17, 19, 23, 29, 31, 37, 41, 43, 47, 53, 59, 61,\n",
              "       67, 71, 73, 79, 83, 89, 97])"
            ]
          },
          "metadata": {},
          "execution_count": 63
        }
      ]
    },
    {
      "cell_type": "markdown",
      "source": [
        "## Pregunta 5"
      ],
      "metadata": {
        "id": "3UsPCiUiS4z6"
      }
    },
    {
      "cell_type": "markdown",
      "source": [
        "a) Crea tres arrays unidimensionales de longitud 5 con números aleatorios entre 0 y 1."
      ],
      "metadata": {
        "id": "d59ti3mfS9f4"
      }
    },
    {
      "cell_type": "code",
      "source": [
        "array_1 = np.random.rand(5, )\n",
        "array_2 = np.random.rand(5, )\n",
        "array_3 = np.random.rand(5, )"
      ],
      "metadata": {
        "id": "naAXLmtuS7Kn"
      },
      "execution_count": 67,
      "outputs": []
    },
    {
      "cell_type": "markdown",
      "source": [
        "b) Combina estos arrays para formar una matriz de forma (5, 3)."
      ],
      "metadata": {
        "id": "jaMs9QGHS_VN"
      }
    },
    {
      "cell_type": "code",
      "source": [
        "concat_array = np.concatenate(([array_1], [array_2],[array_3])).T\n",
        "concat_array"
      ],
      "metadata": {
        "colab": {
          "base_uri": "https://localhost:8080/"
        },
        "id": "8TBnSDYNTAMV",
        "outputId": "fdbc8d50-1a2c-44d5-90a8-df9ac5536d38"
      },
      "execution_count": 77,
      "outputs": [
        {
          "output_type": "execute_result",
          "data": {
            "text/plain": [
              "array([[0.95995495, 0.52337482, 0.71486524],\n",
              "       [0.74107718, 0.82172492, 0.97432496],\n",
              "       [0.06543252, 0.03837838, 0.05429286],\n",
              "       [0.244815  , 0.57704968, 0.73872083],\n",
              "       [0.62513981, 0.71683374, 0.55160408]])"
            ]
          },
          "metadata": {},
          "execution_count": 77
        }
      ]
    },
    {
      "cell_type": "code",
      "source": [
        "concat_array.shape"
      ],
      "metadata": {
        "colab": {
          "base_uri": "https://localhost:8080/"
        },
        "id": "nhFdffdfTklf",
        "outputId": "fb6cc37b-55da-4624-9bc7-92be07997d97"
      },
      "execution_count": 78,
      "outputs": [
        {
          "output_type": "execute_result",
          "data": {
            "text/plain": [
              "(5, 3)"
            ]
          },
          "metadata": {},
          "execution_count": 78
        }
      ]
    },
    {
      "cell_type": "markdown",
      "source": [
        "c) Agrega una columna de unos al principio de la matriz resultante, obteniendo una matriz de forma (5, 4)."
      ],
      "metadata": {
        "id": "90T8jD2sTAmw"
      }
    },
    {
      "cell_type": "code",
      "source": [
        "concat_array = np.concatenate(([np.ones(5)],[array_1], [array_2],[array_3])).T\n",
        "concat_array"
      ],
      "metadata": {
        "colab": {
          "base_uri": "https://localhost:8080/"
        },
        "id": "_cU1lJAiTBZJ",
        "outputId": "5a390b85-229a-4f2e-f4e4-be957d7c5b38"
      },
      "execution_count": 79,
      "outputs": [
        {
          "output_type": "execute_result",
          "data": {
            "text/plain": [
              "array([[1.        , 0.95995495, 0.52337482, 0.71486524],\n",
              "       [1.        , 0.74107718, 0.82172492, 0.97432496],\n",
              "       [1.        , 0.06543252, 0.03837838, 0.05429286],\n",
              "       [1.        , 0.244815  , 0.57704968, 0.73872083],\n",
              "       [1.        , 0.62513981, 0.71683374, 0.55160408]])"
            ]
          },
          "metadata": {},
          "execution_count": 79
        }
      ]
    },
    {
      "cell_type": "markdown",
      "source": [
        "d) Reordena las columnas de la matriz para que la columna de unos esté al final."
      ],
      "metadata": {
        "id": "aQzSrzySTCCH"
      }
    },
    {
      "cell_type": "code",
      "source": [
        "concat_array_ = concat_array[:, ::-1]\n",
        "concat_array_"
      ],
      "metadata": {
        "colab": {
          "base_uri": "https://localhost:8080/"
        },
        "id": "s9IUbTEHTCfb",
        "outputId": "25a82391-1922-4389-f8c9-13982601a622"
      },
      "execution_count": 84,
      "outputs": [
        {
          "output_type": "execute_result",
          "data": {
            "text/plain": [
              "array([[0.71486524, 0.52337482, 0.95995495, 1.        ],\n",
              "       [0.97432496, 0.82172492, 0.74107718, 1.        ],\n",
              "       [0.05429286, 0.03837838, 0.06543252, 1.        ],\n",
              "       [0.73872083, 0.57704968, 0.244815  , 1.        ],\n",
              "       [0.55160408, 0.71683374, 0.62513981, 1.        ]])"
            ]
          },
          "metadata": {},
          "execution_count": 84
        }
      ]
    },
    {
      "cell_type": "markdown",
      "source": [
        "## Pregunta 6"
      ],
      "metadata": {
        "id": "tplM7dgpUopO"
      }
    },
    {
      "cell_type": "markdown",
      "source": [
        "a) Crea una matriz simétrica positiva definida de tamaño 3x3."
      ],
      "metadata": {
        "id": "7xniVQR-UnuB"
      }
    },
    {
      "cell_type": "code",
      "source": [
        "matriz = np.random.rand(3, 3)\n",
        "matriz_sim = (matriz + matriz.T) / 2\n",
        "matriz_sim_pos = np.dot(matriz_sim, matriz_sim.T)\n",
        "matriz_sim_pos\n"
      ],
      "metadata": {
        "colab": {
          "base_uri": "https://localhost:8080/"
        },
        "id": "T9xeyBInUScl",
        "outputId": "5f2e616c-62e9-4a75-ea20-35d5b5ed1773"
      },
      "execution_count": 85,
      "outputs": [
        {
          "output_type": "execute_result",
          "data": {
            "text/plain": [
              "array([[1.00339252, 0.64678149, 0.91188381],\n",
              "       [0.64678149, 0.68936447, 0.79622979],\n",
              "       [0.91188381, 0.79622979, 1.33494859]])"
            ]
          },
          "metadata": {},
          "execution_count": 85
        }
      ]
    },
    {
      "cell_type": "markdown",
      "source": [
        "b) Calcula sus valores y vectores propios (eigenvalores y eigenvectores)."
      ],
      "metadata": {
        "id": "9kSG5JTaUtzf"
      }
    },
    {
      "cell_type": "code",
      "source": [
        "eigenvalores, eigenvectores = np.linalg.eig(matriz_sim_pos)"
      ],
      "metadata": {
        "id": "1ELV_CqOUuqs"
      },
      "execution_count": 89,
      "outputs": []
    },
    {
      "cell_type": "code",
      "source": [
        "eigenvalores"
      ],
      "metadata": {
        "colab": {
          "base_uri": "https://localhost:8080/"
        },
        "id": "9pnR9TosVfg4",
        "outputId": "5d35098d-eeba-46c3-a184-df8346fee9c6"
      },
      "execution_count": 90,
      "outputs": [
        {
          "output_type": "execute_result",
          "data": {
            "text/plain": [
              "array([2.63639524, 0.24385508, 0.14745527])"
            ]
          },
          "metadata": {},
          "execution_count": 90
        }
      ]
    },
    {
      "cell_type": "code",
      "source": [
        "eigenvectores"
      ],
      "metadata": {
        "colab": {
          "base_uri": "https://localhost:8080/"
        },
        "id": "2EJl3r-rVfs3",
        "outputId": "1671f480-1049-44d3-fa40-7fdb8818b233"
      },
      "execution_count": 91,
      "outputs": [
        {
          "output_type": "execute_result",
          "data": {
            "text/plain": [
              "array([[ 0.56485515,  0.80075732,  0.19931478],\n",
              "       [ 0.46610701, -0.11029452, -0.8778265 ],\n",
              "       [ 0.68094267, -0.58874684,  0.43553903]])"
            ]
          },
          "metadata": {},
          "execution_count": 91
        }
      ]
    },
    {
      "cell_type": "markdown",
      "source": [
        "c) Verifica que la multiplicación de la matriz original por un vector propio es igual al producto del eigenvalor\n",
        "correspondiente por el vector propio."
      ],
      "metadata": {
        "id": "fvRJap5JUvDf"
      }
    },
    {
      "cell_type": "code",
      "source": [
        "# 1 eigenvector y su correspondiente eigenvalor\n",
        "eigenvalor = eigenvalores[0]\n",
        "eigenvector = eigenvectores[:, 0]\n",
        "\n",
        "# Verificar que A * eigenvector = eigenvalor * eigenvector\n",
        "matriz_x_eigenvector = np.dot(matriz_sim_pos, eigenvector)\n",
        "eigenvalor_x_eigenvector = eigenvalor * eigenvector"
      ],
      "metadata": {
        "id": "k-LVY879Uvcp"
      },
      "execution_count": 124,
      "outputs": []
    },
    {
      "cell_type": "code",
      "source": [
        "matriz_x_eigenvector"
      ],
      "metadata": {
        "colab": {
          "base_uri": "https://localhost:8080/"
        },
        "id": "ItR7R3l9a68S",
        "outputId": "47e57cdc-2d0d-495b-c546-9c616d4dae2e"
      },
      "execution_count": 129,
      "outputs": [
        {
          "output_type": "execute_result",
          "data": {
            "text/plain": [
              "array([1.48918142, 1.22884231, 1.79523401])"
            ]
          },
          "metadata": {},
          "execution_count": 129
        }
      ]
    },
    {
      "cell_type": "code",
      "source": [
        "eigenvalor_x_eigenvector"
      ],
      "metadata": {
        "colab": {
          "base_uri": "https://localhost:8080/"
        },
        "id": "cxrwmhBoa8E0",
        "outputId": "4baec3b8-5df4-4476-9d39-3543723832fc"
      },
      "execution_count": 130,
      "outputs": [
        {
          "output_type": "execute_result",
          "data": {
            "text/plain": [
              "array([1.48918142, 1.22884231, 1.79523401])"
            ]
          },
          "metadata": {},
          "execution_count": 130
        }
      ]
    },
    {
      "cell_type": "code",
      "source": [],
      "metadata": {
        "id": "9OzYCZk_a7qk"
      },
      "execution_count": null,
      "outputs": []
    },
    {
      "cell_type": "markdown",
      "source": [
        "## Pregunta 7"
      ],
      "metadata": {
        "id": "9XuzpTEZVxcq"
      }
    },
    {
      "cell_type": "markdown",
      "source": [
        "a) Construye un sistema de ecuaciones lineales con tres ecuaciones y tres incógnitas donde la matriz de\n",
        "coeficientes es singular (no invertible)."
      ],
      "metadata": {
        "id": "n8Ljq-lDV1vz"
      }
    },
    {
      "cell_type": "code",
      "source": [
        "#Matriz de coeficientes\n",
        "A = np.array([[1, 2, 3],\n",
        "              [2, 4, 6],\n",
        "              [3, 6, 9]])\n",
        "\n",
        "determinante = np.linalg.det(A)\n",
        "\n",
        "# Comprobar si es singular\n",
        "if determinante == 0:\n",
        "    print(\"La matriz A es singular (no invertible).\")\n",
        "else:\n",
        "    print(\"La matriz A es invertible.\")"
      ],
      "metadata": {
        "colab": {
          "base_uri": "https://localhost:8080/"
        },
        "id": "gErPEDQ0Vzej",
        "outputId": "717bf8d5-896d-4cd3-8585-9c7e034759fc"
      },
      "execution_count": 97,
      "outputs": [
        {
          "output_type": "stream",
          "name": "stdout",
          "text": [
            "La matriz A es singular (no invertible).\n"
          ]
        }
      ]
    },
    {
      "cell_type": "markdown",
      "source": [
        "b) Intenta resolver el sistema utilizando np.linalg.solve() y explica el resultado obtenido."
      ],
      "metadata": {
        "id": "4sWiHPwLV3rv"
      }
    },
    {
      "cell_type": "code",
      "source": [
        "B = np.array([1, 2, 3])"
      ],
      "metadata": {
        "id": "Y_Z-1zK5XPnf"
      },
      "execution_count": 100,
      "outputs": []
    },
    {
      "cell_type": "code",
      "source": [
        "solution = np.linalg.solve(A, B) # No tiene resultado debido a que la matriz es singular\n",
        "print(\"Solución del sistema:\", solution)"
      ],
      "metadata": {
        "colab": {
          "base_uri": "https://localhost:8080/",
          "height": 304
        },
        "collapsed": true,
        "id": "ByPAnO3wV3-d",
        "outputId": "c939871b-4b1a-4c58-caf6-123fe4ca07c9"
      },
      "execution_count": 101,
      "outputs": [
        {
          "output_type": "error",
          "ename": "LinAlgError",
          "evalue": "Singular matrix",
          "traceback": [
            "\u001b[0;31m---------------------------------------------------------------------------\u001b[0m",
            "\u001b[0;31mLinAlgError\u001b[0m                               Traceback (most recent call last)",
            "\u001b[0;32m<ipython-input-101-e24c48989a52>\u001b[0m in \u001b[0;36m<cell line: 1>\u001b[0;34m()\u001b[0m\n\u001b[0;32m----> 1\u001b[0;31m \u001b[0msolution\u001b[0m \u001b[0;34m=\u001b[0m \u001b[0mnp\u001b[0m\u001b[0;34m.\u001b[0m\u001b[0mlinalg\u001b[0m\u001b[0;34m.\u001b[0m\u001b[0msolve\u001b[0m\u001b[0;34m(\u001b[0m\u001b[0mA\u001b[0m\u001b[0;34m,\u001b[0m \u001b[0mB\u001b[0m\u001b[0;34m)\u001b[0m\u001b[0;34m\u001b[0m\u001b[0;34m\u001b[0m\u001b[0m\n\u001b[0m\u001b[1;32m      2\u001b[0m \u001b[0mprint\u001b[0m\u001b[0;34m(\u001b[0m\u001b[0;34m\"Solución del sistema:\"\u001b[0m\u001b[0;34m,\u001b[0m \u001b[0msolution\u001b[0m\u001b[0;34m)\u001b[0m\u001b[0;34m\u001b[0m\u001b[0;34m\u001b[0m\u001b[0m\n",
            "\u001b[0;32m/usr/local/lib/python3.10/dist-packages/numpy/linalg/linalg.py\u001b[0m in \u001b[0;36msolve\u001b[0;34m(a, b)\u001b[0m\n\u001b[1;32m    407\u001b[0m     \u001b[0msignature\u001b[0m \u001b[0;34m=\u001b[0m \u001b[0;34m'DD->D'\u001b[0m \u001b[0;32mif\u001b[0m \u001b[0misComplexType\u001b[0m\u001b[0;34m(\u001b[0m\u001b[0mt\u001b[0m\u001b[0;34m)\u001b[0m \u001b[0;32melse\u001b[0m \u001b[0;34m'dd->d'\u001b[0m\u001b[0;34m\u001b[0m\u001b[0;34m\u001b[0m\u001b[0m\n\u001b[1;32m    408\u001b[0m     \u001b[0mextobj\u001b[0m \u001b[0;34m=\u001b[0m \u001b[0mget_linalg_error_extobj\u001b[0m\u001b[0;34m(\u001b[0m\u001b[0m_raise_linalgerror_singular\u001b[0m\u001b[0;34m)\u001b[0m\u001b[0;34m\u001b[0m\u001b[0;34m\u001b[0m\u001b[0m\n\u001b[0;32m--> 409\u001b[0;31m     \u001b[0mr\u001b[0m \u001b[0;34m=\u001b[0m \u001b[0mgufunc\u001b[0m\u001b[0;34m(\u001b[0m\u001b[0ma\u001b[0m\u001b[0;34m,\u001b[0m \u001b[0mb\u001b[0m\u001b[0;34m,\u001b[0m \u001b[0msignature\u001b[0m\u001b[0;34m=\u001b[0m\u001b[0msignature\u001b[0m\u001b[0;34m,\u001b[0m \u001b[0mextobj\u001b[0m\u001b[0;34m=\u001b[0m\u001b[0mextobj\u001b[0m\u001b[0;34m)\u001b[0m\u001b[0;34m\u001b[0m\u001b[0;34m\u001b[0m\u001b[0m\n\u001b[0m\u001b[1;32m    410\u001b[0m \u001b[0;34m\u001b[0m\u001b[0m\n\u001b[1;32m    411\u001b[0m     \u001b[0;32mreturn\u001b[0m \u001b[0mwrap\u001b[0m\u001b[0;34m(\u001b[0m\u001b[0mr\u001b[0m\u001b[0;34m.\u001b[0m\u001b[0mastype\u001b[0m\u001b[0;34m(\u001b[0m\u001b[0mresult_t\u001b[0m\u001b[0;34m,\u001b[0m \u001b[0mcopy\u001b[0m\u001b[0;34m=\u001b[0m\u001b[0;32mFalse\u001b[0m\u001b[0;34m)\u001b[0m\u001b[0;34m)\u001b[0m\u001b[0;34m\u001b[0m\u001b[0;34m\u001b[0m\u001b[0m\n",
            "\u001b[0;32m/usr/local/lib/python3.10/dist-packages/numpy/linalg/linalg.py\u001b[0m in \u001b[0;36m_raise_linalgerror_singular\u001b[0;34m(err, flag)\u001b[0m\n\u001b[1;32m    110\u001b[0m \u001b[0;34m\u001b[0m\u001b[0m\n\u001b[1;32m    111\u001b[0m \u001b[0;32mdef\u001b[0m \u001b[0m_raise_linalgerror_singular\u001b[0m\u001b[0;34m(\u001b[0m\u001b[0merr\u001b[0m\u001b[0;34m,\u001b[0m \u001b[0mflag\u001b[0m\u001b[0;34m)\u001b[0m\u001b[0;34m:\u001b[0m\u001b[0;34m\u001b[0m\u001b[0;34m\u001b[0m\u001b[0m\n\u001b[0;32m--> 112\u001b[0;31m     \u001b[0;32mraise\u001b[0m \u001b[0mLinAlgError\u001b[0m\u001b[0;34m(\u001b[0m\u001b[0;34m\"Singular matrix\"\u001b[0m\u001b[0;34m)\u001b[0m\u001b[0;34m\u001b[0m\u001b[0;34m\u001b[0m\u001b[0m\n\u001b[0m\u001b[1;32m    113\u001b[0m \u001b[0;34m\u001b[0m\u001b[0m\n\u001b[1;32m    114\u001b[0m \u001b[0;32mdef\u001b[0m \u001b[0m_raise_linalgerror_nonposdef\u001b[0m\u001b[0;34m(\u001b[0m\u001b[0merr\u001b[0m\u001b[0;34m,\u001b[0m \u001b[0mflag\u001b[0m\u001b[0;34m)\u001b[0m\u001b[0;34m:\u001b[0m\u001b[0;34m\u001b[0m\u001b[0;34m\u001b[0m\u001b[0m\n",
            "\u001b[0;31mLinAlgError\u001b[0m: Singular matrix"
          ]
        }
      ]
    },
    {
      "cell_type": "markdown",
      "source": [
        "## Pregunta 8"
      ],
      "metadata": {
        "id": "Ucb0XIDRWOKH"
      }
    },
    {
      "cell_type": "markdown",
      "source": [
        "a) Crea un array de forma (4, 4, 4) con números enteros aleatorios entre 0 y 100."
      ],
      "metadata": {
        "id": "n2hkyf3YWUFy"
      }
    },
    {
      "cell_type": "code",
      "source": [
        "array = np.random.randint(0, 101, size=(4, 4, 4))\n",
        "array"
      ],
      "metadata": {
        "colab": {
          "base_uri": "https://localhost:8080/"
        },
        "id": "aZSFOxDbXxCB",
        "outputId": "e913530d-428b-4434-d559-6dbc6b612cb3"
      },
      "execution_count": 103,
      "outputs": [
        {
          "output_type": "execute_result",
          "data": {
            "text/plain": [
              "array([[[48, 65, 35, 45],\n",
              "        [74, 30, 79, 25],\n",
              "        [ 7, 17, 61, 45],\n",
              "        [26, 10, 72, 22]],\n",
              "\n",
              "       [[25, 33, 81, 97],\n",
              "        [14, 68, 29, 96],\n",
              "        [92, 91, 70, 44],\n",
              "        [52, 72,  9, 79]],\n",
              "\n",
              "       [[64, 17, 47, 19],\n",
              "        [49,  1, 71, 72],\n",
              "        [24, 25, 39, 67],\n",
              "        [60, 57, 29, 65]],\n",
              "\n",
              "       [[80, 41, 18, 78],\n",
              "        [37, 26, 16, 27],\n",
              "        [ 8, 16, 49, 71],\n",
              "        [47,  6, 91, 80]]])"
            ]
          },
          "metadata": {},
          "execution_count": 103
        }
      ]
    },
    {
      "cell_type": "markdown",
      "source": [
        "b) Calcula la suma a lo largo del eje 0, obteniendo un array de forma (4, 4)."
      ],
      "metadata": {
        "id": "mh_B_9u-XtfA"
      }
    },
    {
      "cell_type": "code",
      "source": [
        "suma_eje_0 = np.sum(array, axis=0)\n",
        "suma_eje_0"
      ],
      "metadata": {
        "colab": {
          "base_uri": "https://localhost:8080/"
        },
        "id": "6z-ugJWZX5Ai",
        "outputId": "88405b14-6aef-479a-c7e6-7e5841c7a087"
      },
      "execution_count": 104,
      "outputs": [
        {
          "output_type": "execute_result",
          "data": {
            "text/plain": [
              "array([[217, 156, 181, 239],\n",
              "       [174, 125, 195, 220],\n",
              "       [131, 149, 219, 227],\n",
              "       [185, 145, 201, 246]])"
            ]
          },
          "metadata": {},
          "execution_count": 104
        }
      ]
    },
    {
      "cell_type": "markdown",
      "source": [
        "c) Calcula el promedio a lo largo del eje 1, obteniendo un array de forma (4, 4)."
      ],
      "metadata": {
        "id": "PWbKywBtXxm6"
      }
    },
    {
      "cell_type": "code",
      "source": [
        "promedio_eje_1 = np.mean(array, axis=1)\n",
        "promedio_eje_1"
      ],
      "metadata": {
        "colab": {
          "base_uri": "https://localhost:8080/"
        },
        "id": "ltd4yUPbX9sQ",
        "outputId": "424c4bbf-7a56-4495-d185-a4af458ef389"
      },
      "execution_count": 105,
      "outputs": [
        {
          "output_type": "execute_result",
          "data": {
            "text/plain": [
              "array([[38.75, 30.5 , 61.75, 34.25],\n",
              "       [45.75, 66.  , 47.25, 79.  ],\n",
              "       [49.25, 25.  , 46.5 , 55.75],\n",
              "       [43.  , 22.25, 43.5 , 64.  ]])"
            ]
          },
          "metadata": {},
          "execution_count": 105
        }
      ]
    },
    {
      "cell_type": "markdown",
      "source": [
        "d) Reestructura el array original en una nueva forma de (8, 8) sin perder datos."
      ],
      "metadata": {
        "id": "3g5Xad9GXzBp"
      }
    },
    {
      "cell_type": "code",
      "source": [
        "array_8_8 = array.reshape(8, 8)\n",
        "array_8_8"
      ],
      "metadata": {
        "colab": {
          "base_uri": "https://localhost:8080/"
        },
        "id": "rFDpM5BAWKmX",
        "outputId": "801248f8-5bfd-41dc-9447-f0d61f621d06"
      },
      "execution_count": 106,
      "outputs": [
        {
          "output_type": "execute_result",
          "data": {
            "text/plain": [
              "array([[48, 65, 35, 45, 74, 30, 79, 25],\n",
              "       [ 7, 17, 61, 45, 26, 10, 72, 22],\n",
              "       [25, 33, 81, 97, 14, 68, 29, 96],\n",
              "       [92, 91, 70, 44, 52, 72,  9, 79],\n",
              "       [64, 17, 47, 19, 49,  1, 71, 72],\n",
              "       [24, 25, 39, 67, 60, 57, 29, 65],\n",
              "       [80, 41, 18, 78, 37, 26, 16, 27],\n",
              "       [ 8, 16, 49, 71, 47,  6, 91, 80]])"
            ]
          },
          "metadata": {},
          "execution_count": 106
        }
      ]
    },
    {
      "cell_type": "markdown",
      "source": [
        "## Pregunta 9"
      ],
      "metadata": {
        "id": "JFpelgiSWbMh"
      }
    },
    {
      "cell_type": "code",
      "source": [],
      "metadata": {
        "id": "-LRIKYVHYPSx"
      },
      "execution_count": null,
      "outputs": []
    },
    {
      "cell_type": "markdown",
      "source": [
        "a) Usando NumPy, crea un array que contenga los primeros 10 elementos de esta secuencia sin utilizar bucles\n",
        "explícitos."
      ],
      "metadata": {
        "id": "utlk9-_9YGlc"
      }
    },
    {
      "cell_type": "code",
      "source": [
        "elementos = np.arange(1,11)\n",
        "factorial_vectorizado = np.vectorize(np.math.factorial)\n",
        "factoriales = factorial_vectorizado(elementos)\n",
        "factoriales"
      ],
      "metadata": {
        "colab": {
          "base_uri": "https://localhost:8080/"
        },
        "id": "u2WUOXnOYhkL",
        "outputId": "9f2fe005-44c8-4eb6-ca36-9aed1877a80f"
      },
      "execution_count": 112,
      "outputs": [
        {
          "output_type": "stream",
          "name": "stderr",
          "text": [
            "<ipython-input-112-b895f76d6de4>:2: DeprecationWarning: `np.math` is a deprecated alias for the standard library `math` module (Deprecated Numpy 1.25). Replace usages of `np.math` with `math`\n",
            "  factorial_vectorizado = np.vectorize(np.math.factorial)\n"
          ]
        },
        {
          "output_type": "execute_result",
          "data": {
            "text/plain": [
              "array([      1,       2,       6,      24,     120,     720,    5040,\n",
              "         40320,  362880, 3628800])"
            ]
          },
          "metadata": {},
          "execution_count": 112
        }
      ]
    },
    {
      "cell_type": "markdown",
      "source": [
        "b) Calcula la suma de todos los elementos del array creado."
      ],
      "metadata": {
        "id": "Q8xOt4WsYK5w"
      }
    },
    {
      "cell_type": "code",
      "source": [
        "suma_factoriales = np.sum(factoriales)\n",
        "suma_factoriales"
      ],
      "metadata": {
        "colab": {
          "base_uri": "https://localhost:8080/"
        },
        "id": "nUR8-M57Y1mA",
        "outputId": "28a89087-5ecb-4b06-a6a5-29558fd70ac1"
      },
      "execution_count": 114,
      "outputs": [
        {
          "output_type": "execute_result",
          "data": {
            "text/plain": [
              "4037913"
            ]
          },
          "metadata": {},
          "execution_count": 114
        }
      ]
    },
    {
      "cell_type": "markdown",
      "source": [
        "c) Dado que los factoriales pueden ser números muy grandes, cambia el tipo de datos del array a object para\n",
        "manejar enteros arbitrariamente grandes y recalcula la suma."
      ],
      "metadata": {
        "id": "5dZMeXWpYN7N"
      }
    },
    {
      "cell_type": "code",
      "source": [
        "factoriales_object = factoriales.astype(object)\n",
        "suma_factoriales_object = np.sum(factoriales_object)\n",
        "suma_factoriales_object"
      ],
      "metadata": {
        "colab": {
          "base_uri": "https://localhost:8080/"
        },
        "id": "u5vIM_ggWagT",
        "outputId": "87502407-8e38-4c19-9648-aeb84756e275"
      },
      "execution_count": 115,
      "outputs": [
        {
          "output_type": "execute_result",
          "data": {
            "text/plain": [
              "4037913"
            ]
          },
          "metadata": {},
          "execution_count": 115
        }
      ]
    },
    {
      "cell_type": "markdown",
      "source": [
        "## Pregunta 10"
      ],
      "metadata": {
        "id": "5qhJMVfgWlxh"
      }
    },
    {
      "cell_type": "markdown",
      "source": [
        "a) Simula un conjunto de datos que represente las alturas (en cm) de 500 personas, siguiendo una distribución\n",
        "normal con media 170 y desviación estándar 10."
      ],
      "metadata": {
        "id": "tEnGg2fXZGc0"
      }
    },
    {
      "cell_type": "code",
      "source": [
        "mean = 170\n",
        "std_dev = 10\n",
        "size = 500\n",
        "\n",
        "# Alturas siguiendo dist normal\n",
        "alturas = np.random.normal(loc=mean, scale=std_dev, size=size)\n",
        "alturas"
      ],
      "metadata": {
        "colab": {
          "base_uri": "https://localhost:8080/"
        },
        "collapsed": true,
        "id": "Jj0HC7PIZNsy",
        "outputId": "2e5028b5-c627-4c9a-ebb6-81c4fa97b94a"
      },
      "execution_count": 117,
      "outputs": [
        {
          "output_type": "execute_result",
          "data": {
            "text/plain": [
              "array([182.24661461, 181.01096072, 163.6289556 , 182.23949771,\n",
              "       153.99209475, 167.30297913, 162.96993009, 170.86956525,\n",
              "       162.87503119, 162.68282989, 171.86007305, 165.74099806,\n",
              "       167.86068958, 154.25235362, 186.97972232, 168.0950625 ,\n",
              "       171.83576079, 168.98677795, 166.59868178, 170.97182588,\n",
              "       164.90791127, 175.9066011 , 153.22152731, 181.96867867,\n",
              "       155.62580337, 173.54890795, 157.60191905, 160.88310866,\n",
              "       167.22888654, 156.62753753, 177.06866624, 169.10092466,\n",
              "       157.0974546 , 153.22400195, 162.28179622, 172.27956583,\n",
              "       174.00480099, 173.61164498, 164.58658629, 162.16355196,\n",
              "       156.81910753, 151.25534821, 192.56815268, 180.5377889 ,\n",
              "       164.17203201, 158.07748261, 166.36222316, 158.2469675 ,\n",
              "       170.62488426, 165.13791486, 167.23549752, 181.41260193,\n",
              "       189.90784156, 168.61655419, 158.45530704, 188.23456294,\n",
              "       172.19242179, 173.1699129 , 175.41456371, 186.12764939,\n",
              "       169.35161956, 158.9500258 , 167.89135941, 161.12529907,\n",
              "       158.12173873, 168.60769344, 163.20402291, 165.80853449,\n",
              "       170.0279531 , 155.41028777, 163.0981271 , 161.84753056,\n",
              "       154.37931925, 164.79733231, 162.09015693, 161.33866312,\n",
              "       182.92026564, 172.33266816, 167.09719955, 185.10082625,\n",
              "       181.64254365, 182.42010631, 171.85354927, 158.24429253,\n",
              "       162.85749773, 163.97433887, 171.52803276, 163.34169959,\n",
              "       174.7166694 , 173.31005377, 161.40817991, 170.16627409,\n",
              "       163.96621129, 169.84878349, 161.07358516, 164.22515591,\n",
              "       158.82044205, 186.98176173, 168.44441147, 161.41393149,\n",
              "       165.94474833, 165.5166911 , 166.27771065, 172.15954211,\n",
              "       161.0955269 , 175.58995434, 170.20099719, 177.04847217,\n",
              "       162.97791935, 190.77606591, 169.79909505, 177.82578795,\n",
              "       167.81318672, 173.36860273, 162.20957952, 187.83629106,\n",
              "       160.56757393, 178.91394487, 152.38869781, 164.20979323,\n",
              "       164.82837153, 182.98876437, 169.12468299, 161.4320261 ,\n",
              "       177.36458733, 168.26404303, 168.14508389, 157.42358096,\n",
              "       168.2398488 , 175.51227317, 160.14023718, 149.82273466,\n",
              "       149.60286295, 168.03678735, 167.25737942, 167.63965099,\n",
              "       169.82415447, 163.05454216, 156.70437242, 166.41020545,\n",
              "       168.00480198, 176.11914634, 182.5968424 , 179.87594052,\n",
              "       161.34137817, 165.86735355, 178.45782833, 175.42653811,\n",
              "       164.32257455, 163.67895716, 152.7078363 , 169.74637303,\n",
              "       153.12003812, 171.98516842, 170.70993231, 166.71780084,\n",
              "       173.51032392, 171.47986671, 167.72647147, 167.4016014 ,\n",
              "       169.53053056, 179.43291347, 174.82075523, 169.05984363,\n",
              "       175.30903373, 174.00974633, 169.6580128 , 161.08865142,\n",
              "       172.91928932, 167.18491764, 176.34432112, 172.46054668,\n",
              "       166.28523606, 175.97578656, 164.80579155, 170.73727958,\n",
              "       167.52014291, 144.11307199, 177.06334926, 171.69124447,\n",
              "       160.57938789, 158.91065715, 168.76649074, 164.38448228,\n",
              "       177.67190626, 177.24571988, 171.02706936, 165.10811514,\n",
              "       180.30262666, 157.605789  , 169.59984512, 150.83243919,\n",
              "       156.83840233, 158.61255547, 178.91816757, 158.18700722,\n",
              "       166.6913989 , 176.25860698, 189.84027795, 173.28825514,\n",
              "       173.04892104, 183.83900385, 177.77434555, 179.54323884,\n",
              "       172.74920709, 177.02204366, 170.05406279, 146.32462561,\n",
              "       169.45138087, 175.32839541, 163.03262736, 177.70238534,\n",
              "       173.41268987, 161.47858168, 174.75116319, 164.31931702,\n",
              "       169.73176962, 166.90513047, 158.88242698, 181.48049431,\n",
              "       158.34510289, 163.17266992, 161.72456854, 181.55485498,\n",
              "       160.81859737, 173.29056026, 171.84586081, 149.35124999,\n",
              "       161.53054509, 168.71345008, 189.4182985 , 163.66654686,\n",
              "       177.96443238, 155.26202109, 167.91965791, 159.41135688,\n",
              "       159.47749169, 162.97435108, 153.47723732, 175.77848816,\n",
              "       172.68607938, 173.64003973, 162.7723568 , 161.1771649 ,\n",
              "       157.58137425, 168.03757824, 168.1940409 , 164.09706394,\n",
              "       179.88188026, 169.70747973, 164.70970075, 165.71980528,\n",
              "       168.1861486 , 174.1913958 , 186.65009232, 166.51282083,\n",
              "       165.4414895 , 172.37972466, 177.27628987, 167.84950939,\n",
              "       169.5959515 , 167.45163608, 179.73824144, 164.14664201,\n",
              "       170.036413  , 157.97002063, 171.86403903, 167.21652225,\n",
              "       186.76648662, 170.18917862, 182.22914816, 155.45396025,\n",
              "       173.70096379, 164.4039634 , 176.97797049, 155.11049822,\n",
              "       174.58570099, 170.03779584, 162.8064359 , 174.04488532,\n",
              "       153.4663356 , 139.98364102, 184.42802315, 177.76932829,\n",
              "       171.75674596, 160.24572368, 174.01521091, 173.84037416,\n",
              "       167.19277744, 162.4643963 , 166.21905072, 157.37575566,\n",
              "       161.79324748, 175.40422046, 187.8268144 , 162.22329327,\n",
              "       177.22352033, 180.19553257, 183.96184749, 172.76464548,\n",
              "       161.61413969, 149.7656386 , 175.02034247, 177.30471947,\n",
              "       152.95822933, 155.84630043, 168.66107667, 170.53317195,\n",
              "       157.27925936, 173.38712036, 159.92328295, 176.51581916,\n",
              "       165.06037176, 185.12072792, 157.52373114, 191.71381288,\n",
              "       183.44868285, 165.37946512, 159.21249669, 175.76645193,\n",
              "       168.44588341, 163.97077181, 170.85038628, 167.47817537,\n",
              "       155.92741992, 175.16021345, 146.77748656, 173.88871916,\n",
              "       183.66925475, 180.68228389, 154.1822694 , 167.26859389,\n",
              "       172.30210649, 178.70078581, 185.02226263, 159.95425805,\n",
              "       180.96706945, 170.45231768, 168.04560166, 158.15933731,\n",
              "       193.000486  , 181.80350092, 183.24256918, 169.21678871,\n",
              "       160.16005131, 165.30675925, 164.98124719, 184.2583844 ,\n",
              "       159.96885303, 175.28051313, 171.27940703, 167.03041105,\n",
              "       161.35721777, 178.46714912, 166.42391493, 161.7628561 ,\n",
              "       177.80184144, 153.46149955, 177.7218968 , 182.62629157,\n",
              "       164.8343185 , 168.92468565, 173.95608154, 180.49192128,\n",
              "       163.79567873, 171.84074462, 161.24849383, 158.73455151,\n",
              "       175.02797065, 163.25394704, 186.51699213, 170.62670123,\n",
              "       159.06140952, 164.12497077, 173.04264579, 190.86721886,\n",
              "       173.01786344, 165.34037441, 166.82932327, 167.35610618,\n",
              "       173.18472609, 167.37245901, 169.68369836, 169.11566433,\n",
              "       175.42459031, 164.89859234, 179.25761098, 175.91839852,\n",
              "       188.59239532, 162.22843385, 181.46092042, 169.56031892,\n",
              "       172.12078528, 184.22709531, 168.93692524, 164.49904323,\n",
              "       177.56846937, 156.56121916, 157.60284816, 168.39084967,\n",
              "       183.86730866, 174.71010211, 169.21179201, 170.45961795,\n",
              "       163.3266428 , 182.6647248 , 176.6659622 , 171.07426767,\n",
              "       163.17007641, 167.65429331, 164.66000576, 168.32582765,\n",
              "       159.77903924, 171.08925833, 181.9580489 , 168.29175756,\n",
              "       173.55769056, 164.8484545 , 157.37102489, 186.95594283,\n",
              "       172.51738971, 164.60086155, 185.24810741, 175.64211655,\n",
              "       169.55565229, 161.69993359, 182.32754055, 174.80011856,\n",
              "       168.21222755, 169.1959607 , 185.39502848, 166.42551534,\n",
              "       173.26232062, 175.53399955, 174.92133158, 177.83634855,\n",
              "       172.78143034, 175.69041889, 166.52940489, 161.53918829,\n",
              "       168.35788711, 185.31295993, 177.69471221, 178.52918155,\n",
              "       158.42992979, 175.91317496, 175.8498836 , 168.22377778,\n",
              "       184.9347729 , 175.95662605, 192.20295849, 164.80387818,\n",
              "       162.51149684, 176.27671629, 165.32111687, 175.43475139,\n",
              "       143.92121561, 178.63010751, 163.08506707, 162.39957964,\n",
              "       176.9342899 , 167.29395088, 162.07768008, 170.99166459,\n",
              "       173.83455906, 163.11991199, 163.53533829, 184.97713349,\n",
              "       165.1401431 , 166.23085824, 176.40688018, 171.10427008,\n",
              "       170.45624928, 171.32053945, 168.89569367, 178.01696462,\n",
              "       170.44236593, 179.08444056, 186.33776682, 184.01924535,\n",
              "       165.02917082, 158.41188628, 163.14971739, 176.78089471,\n",
              "       158.26477502, 176.71814492, 165.26625502, 152.54902145,\n",
              "       170.04058456, 149.2576987 , 170.95962321, 170.26686288,\n",
              "       172.10512286, 176.99966879, 158.37941627, 161.40473488,\n",
              "       164.83498824, 162.30504688, 182.50123804, 188.66894917])"
            ]
          },
          "metadata": {},
          "execution_count": 117
        }
      ]
    },
    {
      "cell_type": "markdown",
      "source": [
        "c) Encuentra cuántas personas miden más de 180 cm y menos de 160 cm."
      ],
      "metadata": {
        "id": "pdlyDWfIZLBZ"
      }
    },
    {
      "cell_type": "code",
      "source": [
        "mas_de_180 = np.sum(alturas > 180)\n",
        "mas_de_180"
      ],
      "metadata": {
        "colab": {
          "base_uri": "https://localhost:8080/"
        },
        "id": "STFrNP3mZ7-R",
        "outputId": "bff46556-fb12-4c5e-f86b-1bd8b70dc7ca"
      },
      "execution_count": 118,
      "outputs": [
        {
          "output_type": "execute_result",
          "data": {
            "text/plain": [
              "66"
            ]
          },
          "metadata": {},
          "execution_count": 118
        }
      ]
    },
    {
      "cell_type": "code",
      "source": [
        "menos_de_160 = np.sum(alturas < 160)\n",
        "menos_de_160"
      ],
      "metadata": {
        "colab": {
          "base_uri": "https://localhost:8080/"
        },
        "id": "s-EfQHoQZ-kp",
        "outputId": "75524b7d-5fbd-4667-da2d-18aa872435db"
      },
      "execution_count": 119,
      "outputs": [
        {
          "output_type": "execute_result",
          "data": {
            "text/plain": [
              "75"
            ]
          },
          "metadata": {},
          "execution_count": 119
        }
      ]
    },
    {
      "cell_type": "markdown",
      "source": [
        "d) Normaliza los datos de altura para que tengan media 0 y desviación estándar 1"
      ],
      "metadata": {
        "id": "BRJL7QtPZMtx"
      }
    },
    {
      "cell_type": "code",
      "source": [
        "mean_altura = np.mean(alturas)\n",
        "std_altura = np.std(alturas)\n",
        "\n",
        "# Normaliza los datos\n",
        "alturas_normalizadas = (alturas - mean_altura) / std_altura\n",
        "alturas_normalizadas"
      ],
      "metadata": {
        "colab": {
          "base_uri": "https://localhost:8080/"
        },
        "collapsed": true,
        "id": "U7W30XwQWkZV",
        "outputId": "fb56cd6a-47f1-426c-b17f-d166f5a249cc"
      },
      "execution_count": 120,
      "outputs": [
        {
          "output_type": "execute_result",
          "data": {
            "text/plain": [
              "array([ 1.40142099e+00,  1.26725987e+00, -6.19991346e-01,  1.40064828e+00,\n",
              "       -1.66631352e+00, -2.21084238e-01, -6.91545040e-01,  1.66157853e-01,\n",
              "       -7.01848688e-01, -7.22716944e-01,  2.73702238e-01, -3.90676334e-01,\n",
              "       -1.60530826e-01, -1.63805591e+00,  1.91531817e+00, -1.35083786e-01,\n",
              "        2.71062534e-01, -3.82657803e-02, -2.97553323e-01,  1.77260801e-01,\n",
              "       -4.81128732e-01,  7.13054023e-01, -1.74997788e+00,  1.37124410e+00,\n",
              "       -1.48893360e+00,  4.57067488e-01, -1.27437684e+00, -9.18121678e-01,\n",
              "       -2.29128841e-01, -1.38017032e+00,  8.39225247e-01, -2.58723002e-02,\n",
              "       -1.32914907e+00, -1.74970919e+00, -7.66259176e-01,  3.19248667e-01,\n",
              "        5.06566075e-01,  4.63879161e-01, -5.16016592e-01, -7.79097547e-01,\n",
              "       -1.35937060e+00, -1.96345578e+00,  2.52208200e+00,  1.21588524e+00,\n",
              "       -5.61026824e-01, -1.22274253e+00, -3.23226818e-01, -1.20434071e+00,\n",
              "        1.39591614e-01, -4.56156093e-01, -2.28411053e-01,  1.31086807e+00,\n",
              "        2.23323872e+00, -7.84628248e-02, -1.18172024e+00,  2.05156249e+00,\n",
              "        3.09787002e-01,  4.15918101e-01,  6.59631064e-01,  1.82280435e+00,\n",
              "        1.34689871e-03, -1.12800615e+00, -1.57200849e-01, -8.91825854e-01,\n",
              "       -1.21793742e+00, -7.94248808e-02, -6.66128413e-01, -3.83343566e-01,\n",
              "        7.47798133e-02, -1.51233321e+00, -6.77626050e-01, -8.13409570e-01,\n",
              "       -1.62427062e+00, -4.93134844e-01, -7.87066411e-01, -8.68659852e-01,\n",
              "        1.47456266e+00,  3.25014252e-01, -2.43426756e-01,  1.71131703e+00,\n",
              "        1.33583399e+00,  1.42025786e+00,  2.72993918e-01, -1.20463114e+00,\n",
              "       -7.03752384e-01, -5.82491357e-01,  2.37650963e-01, -6.51180167e-01,\n",
              "        5.83857188e-01,  4.31133896e-01, -8.61112068e-01,  8.97980143e-02,\n",
              "       -5.83373808e-01,  5.53264720e-02, -8.97440692e-01, -5.55258896e-01,\n",
              "       -1.14207571e+00,  1.91553960e+00, -9.71532206e-02, -8.60487589e-01,\n",
              "       -3.68554147e-01, -4.15030462e-01, -3.32402764e-01,  3.06217092e-01,\n",
              "       -8.95058367e-01,  6.78674102e-01,  9.35680750e-02,  8.37032676e-01,\n",
              "       -6.90677606e-01,  2.32750617e+00,  4.99315500e-02,  9.21429736e-01,\n",
              "       -1.65688448e-01,  4.37490849e-01, -7.74100104e-01,  2.00832012e+00,\n",
              "       -9.52380862e-01,  1.03957638e+00, -1.84040234e+00, -5.56926899e-01,\n",
              "       -4.89764760e-01,  1.48199991e+00, -2.32927404e-02, -8.58522967e-01,\n",
              "        8.71354879e-01, -1.16736724e-01, -1.29652713e-01, -1.29373990e+00,\n",
              "       -1.19363613e-01,  6.70239868e-01, -9.98778950e-01, -2.11900179e+00,\n",
              "       -2.14287436e+00, -1.41411010e-01, -2.26035227e-01, -1.84530090e-01,\n",
              "        5.26523764e-02, -6.82358285e-01, -1.37182797e+00, -3.18017140e-01,\n",
              "       -1.44883822e-01,  7.36131123e-01,  1.43944698e+00,  1.14402505e+00,\n",
              "       -8.68365066e-01, -3.76957286e-01,  9.90053522e-01,  6.60931184e-01,\n",
              "       -5.44681667e-01, -6.14562426e-01, -1.80575188e+00,  4.42072567e-02,\n",
              "       -1.76099707e+00,  2.87284467e-01,  1.48825706e-01, -2.84619972e-01,\n",
              "        4.52878227e-01,  2.32421334e-01, -1.75103556e-01, -2.10376325e-01,\n",
              "        2.07721599e-02,  1.09592339e+00,  5.95158307e-01, -3.03326734e-02,\n",
              "        6.48173145e-01,  5.07103016e-01,  3.46135450e-02, -8.95804873e-01,\n",
              "        3.88706645e-01, -2.33902764e-01,  7.60579475e-01,  3.38898663e-01,\n",
              "       -3.31585692e-01,  7.20565835e-01, -4.92216382e-01,  1.51794936e-01,\n",
              "       -1.97505680e-01, -2.73892842e+00,  8.38647955e-01,  2.55371675e-01,\n",
              "       -9.51098162e-01, -1.13228060e+00, -6.21834638e-02, -5.37960035e-01,\n",
              "        9.04722033e-01,  8.58448846e-01,  1.83258862e-01, -4.59391597e-01,\n",
              "        1.19035250e+00, -1.27395666e+00,  2.82979882e-02, -2.00937312e+00,\n",
              "       -1.35727567e+00, -1.16464699e+00,  1.04003485e+00, -1.21085089e+00,\n",
              "       -2.87486562e-01,  7.51273062e-01,  2.22590300e+00,  4.28767109e-01,\n",
              "        4.02781409e-01,  1.57431466e+00,  9.15844379e-01,  1.10790197e+00,\n",
              "        3.70239967e-01,  8.34163200e-01,  7.76146726e-02, -2.49880899e+00,\n",
              "        1.21784825e-02,  6.50275340e-01, -6.84737684e-01,  9.08031298e-01,\n",
              "        4.42277610e-01, -8.53468195e-01,  5.87602351e-01, -5.45035353e-01,\n",
              "        4.26216908e-02, -2.64280656e-01, -1.13534569e+00,  1.31823948e+00,\n",
              "       -1.19368566e+00, -6.69532563e-01, -8.26760172e-01,  1.32631319e+00,\n",
              "       -9.25125992e-01,  4.29017387e-01,  2.72159144e-01, -2.17019324e+00,\n",
              "       -8.47826268e-01, -6.79423534e-02,  2.18008658e+00, -6.15909874e-01,\n",
              "        9.36483056e-01, -1.52843127e+00, -1.54128338e-01, -1.07791713e+00,\n",
              "       -1.07073654e+00, -6.91065032e-01, -1.72221416e+00,  6.99144161e-01,\n",
              "        3.63385876e-01,  4.66962121e-01, -7.12996561e-01, -8.86194522e-01,\n",
              "       -1.27660749e+00, -1.41325139e-01, -1.24337206e-01, -5.69166482e-01,\n",
              "        1.14466996e+00,  3.99844162e-02, -5.02649440e-01, -3.92977339e-01,\n",
              "       -1.25194113e-01,  5.26825607e-01,  1.87952859e+00, -3.06875676e-01,\n",
              "       -4.23195476e-01,  3.30123412e-01,  8.61767983e-01, -1.61744715e-01,\n",
              "        2.78752391e-02, -2.04943809e-01,  1.12907438e+00, -5.63783543e-01,\n",
              "        7.56983464e-02, -1.23441021e+00,  2.74132844e-01, -2.30471293e-01,\n",
              "        1.89216610e+00,  9.22848735e-02,  1.39952458e+00, -1.50759147e+00,\n",
              "        4.73576951e-01, -5.35844873e-01,  8.29377956e-01, -1.54488286e+00,\n",
              "        5.69637293e-01,  7.58484885e-02, -7.09296422e-01,  5.10918231e-01,\n",
              "       -1.72339782e+00, -3.18728139e+00,  1.63826743e+00,  9.15299629e-01,\n",
              "        2.62483499e-01, -9.87325753e-01,  5.07696332e-01,  4.88713432e-01,\n",
              "       -2.33049387e-01, -7.46433372e-01, -3.38771765e-01, -1.29893253e+00,\n",
              "       -8.19303355e-01,  6.58508045e-01,  2.00729119e+00, -7.72611133e-01,\n",
              "        8.56038530e-01,  1.17872476e+00,  1.58765241e+00,  3.71916190e-01,\n",
              "       -8.38749984e-01, -2.12520100e+00,  6.16828493e-01,  8.64854726e-01,\n",
              "       -1.77856546e+00, -1.46499314e+00, -7.36287969e-02,  1.29633950e-01,\n",
              "       -1.30940962e+00,  4.39501401e-01, -1.02233476e+00,  7.79199874e-01,\n",
              "       -4.64575335e-01,  1.71347785e+00, -1.28286609e+00,  2.42932205e+00,\n",
              "        1.53193556e+00, -4.29929772e-01, -1.09950837e+00,  6.97837327e-01,\n",
              "       -9.69934053e-02, -5.82878650e-01,  1.64075496e-01, -2.02062306e-01,\n",
              "       -1.45618559e+00,  6.32014984e-01, -2.44963961e+00,  4.93962490e-01,\n",
              "        1.55588415e+00,  1.23157379e+00, -1.64566531e+00, -2.24817616e-01,\n",
              "        3.21696019e-01,  1.01643263e+00,  1.70278698e+00, -1.01897163e+00,\n",
              "        1.26249438e+00,  1.20855197e-01, -1.40453996e-01, -1.21385515e+00,\n",
              "        2.56902259e+00,  1.35330993e+00,  1.50955676e+00, -1.32923615e-02,\n",
              "       -9.96627631e-01, -4.37823812e-01, -4.73166284e-01,  1.61984890e+00,\n",
              "       -1.01738698e+00,  6.45076522e-01,  2.10656424e-01, -2.50678317e-01,\n",
              "       -8.66645282e-01,  9.91065526e-01, -3.16528634e-01, -8.22603100e-01,\n",
              "        9.18829744e-01, -1.72392289e+00,  9.10149755e-01,  1.44264442e+00,\n",
              "       -4.89119068e-01, -4.50074515e-02,  5.01276361e-01,  1.21090517e+00,\n",
              "       -6.01889381e-01,  2.71603653e-01, -8.78449984e-01, -1.15140127e+00,\n",
              "        6.17656722e-01, -6.60707900e-01,  1.86507724e+00,  1.39788892e-01,\n",
              "       -1.11591266e+00, -5.66136498e-01,  4.02100074e-01,  2.33740311e+00,\n",
              "        3.99409330e-01, -4.34174047e-01, -2.72511423e-01, -2.15315969e-01,\n",
              "        4.17526442e-01, -2.13540459e-01,  3.74023545e-02, -2.42719414e-02,\n",
              "        6.60719701e-01, -4.82140535e-01,  1.07688992e+00,  7.14334928e-01,\n",
              "        2.09041414e+00, -7.72052995e-01,  1.31611425e+00,  2.40064316e-02,\n",
              "        3.02009068e-01,  1.61645169e+00, -4.36785381e-02, -5.25521581e-01,\n",
              "        8.93491372e-01, -1.38737083e+00, -1.27427596e+00, -1.02968693e-01,\n",
              "        1.57738785e+00,  5.83144145e-01, -1.38348779e-02,  1.21647824e-01,\n",
              "       -6.52814957e-01,  1.44681731e+00,  7.95501655e-01,  1.88383418e-01,\n",
              "       -6.69814154e-01, -1.82940301e-01, -5.08045074e-01, -1.10028459e-01,\n",
              "       -1.03799602e+00,  1.90011029e-01,  1.37008997e+00, -1.13727620e-01,\n",
              "        4.58021060e-01, -4.87584251e-01, -1.29944618e+00,  1.91273631e+00,\n",
              "        3.45070395e-01, -5.14466656e-01,  1.72730808e+00,  6.84337614e-01,\n",
              "        2.34997525e-02, -8.29434911e-01,  1.41020753e+00,  5.92917680e-01,\n",
              "       -1.22362590e-01, -1.55537628e-02,  1.74326003e+00, -3.16354869e-01,\n",
              "        4.25951268e-01,  6.72598810e-01,  6.06078385e-01,  9.22576354e-01,\n",
              "        3.73738606e-01,  6.89582039e-01, -3.05075062e-01, -8.46887833e-01,\n",
              "       -1.06547603e-01,  1.73434944e+00,  9.07198188e-01,  9.97800698e-01,\n",
              "       -1.18447558e+00,  7.13767780e-01,  7.06895921e-01, -1.21108524e-01,\n",
              "        1.69328778e+00,  7.18485483e-01,  2.48243104e+00, -4.92424125e-01,\n",
              "       -7.41319430e-01,  7.53239281e-01, -4.36264934e-01,  6.61822941e-01,\n",
              "       -2.75975923e+00,  1.00875873e+00, -6.79044042e-01, -7.53470841e-01,\n",
              "        8.24635336e-01, -2.22064480e-01, -7.88421086e-01,  1.79414788e-01,\n",
              "        4.88082058e-01, -6.75260755e-01, -6.30155844e-01,  1.69788708e+00,\n",
              "       -4.55914161e-01, -3.37489764e-01,  7.67371825e-01,  1.91640930e-01,\n",
              "        1.21282071e-01,  2.15122377e-01, -4.81552558e-02,  9.42186744e-01,\n",
              "        1.19774687e-01,  1.05808794e+00,  1.84561785e+00,  1.59388438e+00,\n",
              "       -4.67962977e-01, -1.18643465e+00, -6.72024635e-01,  8.07980453e-01,\n",
              "       -1.20240726e+00,  8.01167394e-01, -4.42221560e-01, -1.82299520e+00,\n",
              "        7.61512740e-02, -2.18035057e+00,  1.75935896e-01,  1.00719443e-01,\n",
              "        3.00308521e-01,  8.31733848e-01, -1.18996008e+00, -8.61486112e-01,\n",
              "       -4.89046351e-01, -7.63734735e-01,  1.42906673e+00,  2.09872597e+00])"
            ]
          },
          "metadata": {},
          "execution_count": 120
        }
      ]
    },
    {
      "cell_type": "code",
      "source": [
        "alturas_normalizadas.mean()"
      ],
      "metadata": {
        "colab": {
          "base_uri": "https://localhost:8080/"
        },
        "id": "HSjjaFL0Wv7R",
        "outputId": "a9757a72-d232-42bb-c6a5-75ebdeb8b853"
      },
      "execution_count": 121,
      "outputs": [
        {
          "output_type": "execute_result",
          "data": {
            "text/plain": [
              "-7.958078640513122e-16"
            ]
          },
          "metadata": {},
          "execution_count": 121
        }
      ]
    },
    {
      "cell_type": "code",
      "source": [
        "alturas_normalizadas.std()"
      ],
      "metadata": {
        "colab": {
          "base_uri": "https://localhost:8080/"
        },
        "id": "hv6Y0L6faKql",
        "outputId": "326f9c38-f8e5-48f9-8dd3-f7775a32d71c"
      },
      "execution_count": 122,
      "outputs": [
        {
          "output_type": "execute_result",
          "data": {
            "text/plain": [
              "1.0"
            ]
          },
          "metadata": {},
          "execution_count": 122
        }
      ]
    },
    {
      "cell_type": "code",
      "source": [],
      "metadata": {
        "id": "rrHmntfSaMET"
      },
      "execution_count": null,
      "outputs": []
    }
  ]
}