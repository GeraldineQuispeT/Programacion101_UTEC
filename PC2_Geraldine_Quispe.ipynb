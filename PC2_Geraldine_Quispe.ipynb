{
  "nbformat": 4,
  "nbformat_minor": 0,
  "metadata": {
    "colab": {
      "provenance": [],
      "toc_visible": true,
      "authorship_tag": "ABX9TyNzUuMUAKf0zH18CfDW6tqw",
      "include_colab_link": true
    },
    "kernelspec": {
      "name": "python3",
      "display_name": "Python 3"
    },
    "language_info": {
      "name": "python"
    }
  },
  "cells": [
    {
      "cell_type": "markdown",
      "metadata": {
        "id": "view-in-github",
        "colab_type": "text"
      },
      "source": [
        "<a href=\"https://colab.research.google.com/github/GeraldineQuispeT/Programacion101_UTEC/blob/main/PC2_Geraldine_Quispe.ipynb\" target=\"_parent\"><img src=\"https://colab.research.google.com/assets/colab-badge.svg\" alt=\"Open In Colab\"/></a>"
      ]
    },
    {
      "cell_type": "markdown",
      "source": [
        "# Practica Calificada Nro 2"
      ],
      "metadata": {
        "id": "9i52IPitdmCF"
      }
    },
    {
      "cell_type": "markdown",
      "source": [
        "## 1. Cifrado de Texto"
      ],
      "metadata": {
        "id": "DyHfRldbP5we"
      }
    },
    {
      "cell_type": "code",
      "source": [
        "palabra_final=''\n",
        "\n",
        "def cifrar_texto(texto,numero):\n",
        "  palabra_final=''\n",
        "  for letra in texto: #itera con cada letra de la palabra \"texto\"\n",
        "    if 'a' <= letra <= 'z': #si la letra es minuscula\n",
        "      posicion_ini=ord(letra)-ord('a')#calcula la posicion inicial de la letra\n",
        "      posicion_fin=(posicion_ini+numero) % 26 #calcula la posicion inicial+ \"numero\" posiciones adelante, y siendo ciclico (%26)\n",
        "      letra_fin=chr(ord('a')+posicion_fin) #devuelve la letra fin\n",
        "\n",
        "    elif 'A' <= letra <= 'Z': #si la letra es mayuscula\n",
        "      posicion_ini=ord(letra)-ord('A')#calcula la posicion inicial de la letra\n",
        "      posicion_fin=(posicion_ini+numero) % 26 #calcula la posicion inicial+ \"numero\" posiciones adelante, y siendo ciclico (%26)\n",
        "      letra_fin=chr(ord('A')+posicion_fin) #devuelve la letra fin\n",
        "\n",
        "    else:\n",
        "      letra_fin=letra #Si no es ninguna letra devuelve tal cual el valor\n",
        "\n",
        "    palabra_final=palabra_final+letra_fin #une las letras para formar la palabra\n",
        "\n",
        "  return palabra_final"
      ],
      "metadata": {
        "id": "2RuTJMzNP6Ng"
      },
      "execution_count": 29,
      "outputs": []
    },
    {
      "cell_type": "code",
      "source": [
        "cifrar_texto(\"Hola, Mundo!\", 3) # Devuelve \"Krod, Pxqgr!\""
      ],
      "metadata": {
        "colab": {
          "base_uri": "https://localhost:8080/",
          "height": 36
        },
        "id": "TXr94FtNUZlY",
        "outputId": "5e191587-87d1-4c6b-a531-269e23f6e857"
      },
      "execution_count": 30,
      "outputs": [
        {
          "output_type": "execute_result",
          "data": {
            "text/plain": [
              "'Krod, Pxqgr!'"
            ],
            "application/vnd.google.colaboratory.intrinsic+json": {
              "type": "string"
            }
          },
          "metadata": {},
          "execution_count": 30
        }
      ]
    },
    {
      "cell_type": "markdown",
      "source": [
        "2. Números Primos Gemelos"
      ],
      "metadata": {
        "id": "We0VzNYNV1w_"
      }
    },
    {
      "cell_type": "code",
      "source": [
        "def es_primo(numero): #se genera la funcion para determinar si el numero es primo o no\n",
        "  if numero < 2:\n",
        "    return False\n",
        "  else:\n",
        "    for i in range(2, numero):\n",
        "      if numero % i == 0:\n",
        "        return False\n",
        "    return True"
      ],
      "metadata": {
        "id": "GPSUpmM_Vg8C"
      },
      "execution_count": 31,
      "outputs": []
    },
    {
      "cell_type": "code",
      "source": [
        "es_primo(15)"
      ],
      "metadata": {
        "colab": {
          "base_uri": "https://localhost:8080/"
        },
        "id": "CZQrv__MWaPY",
        "outputId": "22bf921f-bca2-4d02-e610-6eb3195594de"
      },
      "execution_count": 35,
      "outputs": [
        {
          "output_type": "execute_result",
          "data": {
            "text/plain": [
              "False"
            ]
          },
          "metadata": {},
          "execution_count": 35
        }
      ]
    },
    {
      "cell_type": "code",
      "source": [
        "def primos_gemelos(m):\n",
        "  lista_primos_gemelos=[]\n",
        "  for i in range(m-2): #si el numero es 15 se itera desde el 0 al 14\n",
        "    if es_primo(i) and es_primo(i+2): #se determina si el numero 0 y 2 son primos, 1 y 3, 2 y 4, 3 y 5 ...\n",
        "      lista_primos_gemelos.append((i,i+2)) #agrega en la lista los pares gemelos primos\n",
        "  return lista_primos_gemelos"
      ],
      "metadata": {
        "id": "2fLfgPk1WbMN"
      },
      "execution_count": 36,
      "outputs": []
    },
    {
      "cell_type": "code",
      "source": [
        "primos_gemelos(15)"
      ],
      "metadata": {
        "colab": {
          "base_uri": "https://localhost:8080/"
        },
        "id": "5gj1Ui29XHP8",
        "outputId": "cd5ea17a-cb19-4fa4-8d8e-4867772ccb18"
      },
      "execution_count": 37,
      "outputs": [
        {
          "output_type": "execute_result",
          "data": {
            "text/plain": [
              "[(3, 5), (5, 7), (11, 13)]"
            ]
          },
          "metadata": {},
          "execution_count": 37
        }
      ]
    },
    {
      "cell_type": "markdown",
      "source": [
        "3. Triángulo de Pascal"
      ],
      "metadata": {
        "id": "LmiTxsPsXcfz"
      }
    },
    {
      "cell_type": "code",
      "source": [
        "def triangulo_pascal(h):\n",
        "\n",
        "  if h <= 0:\n",
        "    return\n",
        "\n",
        "  triangulo = []\n",
        "  for i in range(h):\n",
        "    fila = []\n",
        "    for j in range(i + 1):\n",
        "      if j == 0 or j == i:\n",
        "        fila.append(1)\n",
        "      else:\n",
        "        fila.append(triangulo[i - 1][j - 1] + triangulo[i - 1][j])\n",
        "    triangulo.append(fila)\n",
        "\n",
        "  ancho_maximo = len(str(triangulo[h - 1][len(triangulo[h - 1]) // 2]))\n",
        "  for fila in triangulo:\n",
        "    linea = \"\"\n",
        "    for num in fila:\n",
        "        linea += str(num).center(ancho_maximo * 2) + \" \"\n",
        "    print(linea.center(ancho_maximo * 2 * (h)))"
      ],
      "metadata": {
        "id": "xWidw46Vdc6O"
      },
      "execution_count": 66,
      "outputs": []
    },
    {
      "cell_type": "code",
      "source": [
        "triangulo_pascal(3)"
      ],
      "metadata": {
        "colab": {
          "base_uri": "https://localhost:8080/"
        },
        "id": "PEzwqiute0GF",
        "outputId": "6dce7b43-1989-4678-9304-8e930628c828"
      },
      "execution_count": 67,
      "outputs": [
        {
          "output_type": "stream",
          "name": "stdout",
          "text": [
            " 1    \n",
            "1  1  \n",
            "1  2  1  \n"
          ]
        }
      ]
    },
    {
      "cell_type": "markdown",
      "source": [
        "4. Análisis de Frecuencia de Palabras"
      ],
      "metadata": {
        "id": "FjQCIk-hYoa_"
      }
    },
    {
      "cell_type": "code",
      "source": [
        "import string\n",
        "\n",
        "def analizar_frecuencia (texto):\n",
        "  diccionario={}\n",
        "  texto=texto.lower() #todo se convierte en mayuscular\n",
        "  for caracter in string.punctuation:\n",
        "    texto=texto.replace(caracter,\"\") #para eliminar los signos o puntuaciones\n",
        "\n",
        "  palabras = texto.split()\n",
        "  for palabra in palabras:\n",
        "    if palabra in diccionario:\n",
        "      diccionario[palabra] += 1 #agrega en el diccionario las cantidades por cada palabra\n",
        "    else:\n",
        "      diccionario[palabra] = 1\n",
        "  return diccionario\n"
      ],
      "metadata": {
        "id": "48EzaMasY4dW"
      },
      "execution_count": 55,
      "outputs": []
    },
    {
      "cell_type": "code",
      "source": [
        "texto = \"Hola mundo. Hola a todos en el mundo.\"\n",
        "analizar_frecuencia(texto) # Devuelve {'hola': 2, 'mundo': 2, 'a': 1, 'todos': 1, 'en': 1, 'el': 1}"
      ],
      "metadata": {
        "colab": {
          "base_uri": "https://localhost:8080/"
        },
        "id": "kVx2Sj21Zixj",
        "outputId": "048ff89a-ea72-4975-ee48-db441085cbad"
      },
      "execution_count": 56,
      "outputs": [
        {
          "output_type": "execute_result",
          "data": {
            "text/plain": [
              "{'hola': 2, 'mundo': 2, 'a': 1, 'todos': 1, 'en': 1, 'el': 1}"
            ]
          },
          "metadata": {},
          "execution_count": 56
        }
      ]
    },
    {
      "cell_type": "markdown",
      "source": [
        "5. Juego de Números Aleatorios"
      ],
      "metadata": {
        "id": "38MHnuXmZ2zr"
      }
    },
    {
      "cell_type": "code",
      "source": [
        "import random\n",
        "\n",
        "numero_secreto = random.randint(1, 100) #numero aleatorio\n",
        "intentos = 10  #numero de intentos permitidos\n",
        "\n",
        "while intentos > 0:\n",
        "  numero_usuario = int(input(\"Adivina el numero secreto: \"))\n",
        "  if numero_usuario == numero_secreto:\n",
        "    print(f\"Muy bien! adivinaste el numero {numero_usuario}\")\n",
        "    break\n",
        "\n",
        "  elif numero_usuario < numero_secreto: #genera las pistas para adivinar el numero\n",
        "    print(\"El numero es mas alto\")\n",
        "  else:\n",
        "    print(\"El numero es mas bajo\")\n",
        "\n",
        "  intentos -= 1 #se queda sin 1 intento\n",
        "  print(f\"Te quedan {intentos} intentos\")\n",
        "\n",
        "if intentos == 0:\n",
        "    print(f\"Te quedaste sin intentos. El número correcto era {numero_secreto}.\")"
      ],
      "metadata": {
        "colab": {
          "base_uri": "https://localhost:8080/"
        },
        "id": "TIXX5Bfoa7Ll",
        "outputId": "40791fc8-a86b-4f51-cfc4-a4fc95944166"
      },
      "execution_count": 57,
      "outputs": [
        {
          "output_type": "stream",
          "name": "stdout",
          "text": [
            "Adivina el numero secreto: 10\n",
            "El numero es mas alto\n",
            "Te quedan 9 intentos\n",
            "Adivina el numero secreto: 20\n",
            "El numero es mas alto\n",
            "Te quedan 8 intentos\n",
            "Adivina el numero secreto: 50\n",
            "El numero es mas bajo\n",
            "Te quedan 7 intentos\n",
            "Adivina el numero secreto: 30\n",
            "El numero es mas bajo\n",
            "Te quedan 6 intentos\n",
            "Adivina el numero secreto: 25\n",
            "El numero es mas bajo\n",
            "Te quedan 5 intentos\n",
            "Adivina el numero secreto: 23\n",
            "El numero es mas bajo\n",
            "Te quedan 4 intentos\n",
            "Adivina el numero secreto: 22\n",
            "Muy bien! adivinaste el numero 22\n"
          ]
        }
      ]
    },
    {
      "cell_type": "markdown",
      "source": [
        "6. Bonus: Generador de Contraseñas"
      ],
      "metadata": {
        "id": "BUwyMAWjb3fl"
      }
    },
    {
      "cell_type": "code",
      "source": [
        "def generar_contraseña(longitud):\n",
        "  caracteres = string.ascii_letters + string.digits + string.punctuation #genera los caracteres\n",
        "  contraseña = ''.join(random.choice(caracteres) for i in range(longitud)) #se queda de manera aleatoria con los caracteres de letras  numeros y signos de puntuacion\n",
        "  return contraseña"
      ],
      "metadata": {
        "id": "G53d74Msb5jA"
      },
      "execution_count": 58,
      "outputs": []
    },
    {
      "cell_type": "code",
      "source": [
        "generar_contraseña(10) # Podría devolver \"A*k3d9#Gq1Lp\""
      ],
      "metadata": {
        "colab": {
          "base_uri": "https://localhost:8080/",
          "height": 36
        },
        "id": "Jy-i-viUcz-6",
        "outputId": "8d13f0e7-20ad-41bb-d218-cdddb5454205"
      },
      "execution_count": 65,
      "outputs": [
        {
          "output_type": "execute_result",
          "data": {
            "text/plain": [
              "'gFg^PliGV]'"
            ],
            "application/vnd.google.colaboratory.intrinsic+json": {
              "type": "string"
            }
          },
          "metadata": {},
          "execution_count": 65
        }
      ]
    },
    {
      "cell_type": "code",
      "source": [],
      "metadata": {
        "id": "0Jl0NL5YeiFO"
      },
      "execution_count": null,
      "outputs": []
    }
  ]
}