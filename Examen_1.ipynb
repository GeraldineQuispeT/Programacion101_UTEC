{
  "nbformat": 4,
  "nbformat_minor": 0,
  "metadata": {
    "colab": {
      "provenance": [],
      "toc_visible": true,
      "authorship_tag": "ABX9TyPoTQDtmx0ZFO2f0sFstecE",
      "include_colab_link": true
    },
    "kernelspec": {
      "name": "python3",
      "display_name": "Python 3"
    },
    "language_info": {
      "name": "python"
    }
  },
  "cells": [
    {
      "cell_type": "markdown",
      "metadata": {
        "id": "view-in-github",
        "colab_type": "text"
      },
      "source": [
        "<a href=\"https://colab.research.google.com/github/GeraldineQuispeT/Programacion101_UTEC/blob/main/Examen_1.ipynb\" target=\"_parent\"><img src=\"https://colab.research.google.com/assets/colab-badge.svg\" alt=\"Open In Colab\"/></a>"
      ]
    },
    {
      "cell_type": "markdown",
      "source": [
        "Pregunta 1: Matrices y Estructuras de Control\n",
        "\n",
        "Crea un laberinto de 5x5 representado por una matriz (lista de listas). Inicializa la matriz con paredes representadas por '#' en los bordes y espacios vacíos representados por ' ' en el interior. Escribe el código para crear esta matriz y muestra el laberinto en pantalla de forma que cada fila aparezca en una línea diferente."
      ],
      "metadata": {
        "id": "5I3J6Z2e-R6z"
      }
    },
    {
      "cell_type": "code",
      "source": [
        "laberinto = [] #Matriz de 5x5\n",
        "\n",
        "for i in range(0,5): #Numero de filas\n",
        "  if i==0 or i ==4:  #Si la posicion de las filas son 1 o 5, entonces son paredes superior e inferior\n",
        "    laberinto.append([\"#\"] * 5) #Se crea las listas de #\n",
        "  else:\n",
        "    laberinto.append([\"#\"]+[\" \"]*3+[\"#\"]) #Se crea los bordes de # e interior ' '\n",
        "\n",
        "laberinto\n"
      ],
      "metadata": {
        "colab": {
          "base_uri": "https://localhost:8080/"
        },
        "id": "-d9QM_Sv-Yq5",
        "outputId": "f1c6cf8d-7a1f-4142-c46c-2963776f8b2b"
      },
      "execution_count": 1,
      "outputs": [
        {
          "output_type": "execute_result",
          "data": {
            "text/plain": [
              "[['#', '#', '#', '#', '#'],\n",
              " ['#', ' ', ' ', ' ', '#'],\n",
              " ['#', ' ', ' ', ' ', '#'],\n",
              " ['#', ' ', ' ', ' ', '#'],\n",
              " ['#', '#', '#', '#', '#']]"
            ]
          },
          "metadata": {},
          "execution_count": 1
        }
      ]
    },
    {
      "cell_type": "markdown",
      "source": [
        "Pregunta 2: Slicing y Mostrar el Laberinto\n",
        "\n",
        "Muestra el laberinto en pantalla marcando la posición del jugador con una 'P'. La posición inicial del jugador es (1, 1). Asegúrate de que la posición del jugador se refleje correctamente en la salida. Utiliza slicing para ayudar a mostrar las filas."
      ],
      "metadata": {
        "id": "YBonuIjZAGvC"
      }
    },
    {
      "cell_type": "code",
      "source": [
        "posicion_fila = int(input(\"Ingrese la posicion X del jugador: \"))\n",
        "posicion_columna = int(input(\"Ingrese la posicion Y del jugador: \"))\n",
        "posicion = (posicion_fila,posicion_columna)\n",
        "\n",
        "laberinto[posicion[0]][posicion[1]] = 'P'"
      ],
      "metadata": {
        "colab": {
          "base_uri": "https://localhost:8080/"
        },
        "id": "EUUXAyoPAopU",
        "outputId": "57956444-ebf1-48eb-bf6a-a202d364d4d9"
      },
      "execution_count": 2,
      "outputs": [
        {
          "name": "stdout",
          "output_type": "stream",
          "text": [
            "Ingrese la posicion X del jugador: 2\n",
            "Ingrese la posicion Y del jugador: 2\n"
          ]
        }
      ]
    },
    {
      "cell_type": "code",
      "source": [
        "for fila in laberinto[:]:\n",
        "  print(''.join(fila))"
      ],
      "metadata": {
        "colab": {
          "base_uri": "https://localhost:8080/"
        },
        "id": "-9ngDB-QA1gc",
        "outputId": "f5911076-c41c-4484-f423-e4a589247f23"
      },
      "execution_count": 3,
      "outputs": [
        {
          "output_type": "stream",
          "name": "stdout",
          "text": [
            "#####\n",
            "#   #\n",
            "# P #\n",
            "#   #\n",
            "#####\n"
          ]
        }
      ]
    },
    {
      "cell_type": "markdown",
      "source": [
        "Pregunta 3: Diccionarios y Control de Flujo\n",
        "\n",
        "Crea un diccionario llamado inventario para almacenar los objetos que el jugador recolecta. Escribe el código que agrega un objeto al inventario cuando el jugador lo encuentra. Si el objeto ya existe en el inventario, incrementa su cantidad en 1; si no, añade el objeto al inventario con cantidad 1."
      ],
      "metadata": {
        "id": "JzdzKY43B_7-"
      }
    },
    {
      "cell_type": "code",
      "source": [
        "inventario = {}  #almacenar los objetos que el jugador recolecta"
      ],
      "metadata": {
        "id": "ORB4W7hSDJ-o"
      },
      "execution_count": 4,
      "outputs": []
    },
    {
      "cell_type": "code",
      "source": [
        "objeto = str(input(\"Que objeto encontraste: \"))\n",
        "\n",
        "if objeto in inventario:\n",
        "  inventario[objeto] += 1\n",
        "else:\n",
        "  inventario[objeto]=1\n",
        "\n",
        "print(\"El inventario actualizado es: \", inventario)"
      ],
      "metadata": {
        "colab": {
          "base_uri": "https://localhost:8080/"
        },
        "id": "IQvGxfkYBlpu",
        "outputId": "f3a399d0-1fcc-43b5-d544-99c90d6c7cf6"
      },
      "execution_count": 6,
      "outputs": [
        {
          "output_type": "stream",
          "name": "stdout",
          "text": [
            "Que objeto encontraste: escudo\n",
            "El inventario actualizado es:  {'escudo': 2}\n"
          ]
        }
      ]
    },
    {
      "cell_type": "markdown",
      "source": [
        "Pregunta 4: Listas por Comprensión y Sets\n",
        "\n",
        "Supón que tienes una lista de objetos únicos del juego llamada objetos_unicos = ['espada', 'escudo', 'poción']. A partir del inventario, utiliza una lista por comprensión para extraer los objetos que están en objetos_unicos. Luego, convierte esta lista en un set para eliminar duplicados y muestra el set resultante."
      ],
      "metadata": {
        "id": "-2-6DQ3tDSRv"
      }
    },
    {
      "cell_type": "code",
      "source": [
        "objetos_unicos = ['espada', 'escudo', 'poción']\n",
        "\n",
        "objetos_unicos_inventario = [interseccion for interseccion in objetos_unicos if interseccion in inventario]\n",
        "objetos_unicos_inventario = set(objetos_unicos_inventario)\n",
        "\n",
        "print(\"El set resultante es: \", objetos_unicos_inventario )"
      ],
      "metadata": {
        "colab": {
          "base_uri": "https://localhost:8080/"
        },
        "id": "PsVlpeVoDB1T",
        "outputId": "b96a06de-19eb-48dd-e0ba-7597bedd9eae"
      },
      "execution_count": 7,
      "outputs": [
        {
          "output_type": "stream",
          "name": "stdout",
          "text": [
            "El set resultante es:  {'escudo'}\n"
          ]
        }
      ]
    },
    {
      "cell_type": "markdown",
      "source": [
        "Pregunta 5: Manipulación de Strings y Estructuras de Control\n",
        "\n",
        "Cuando el jugador encuentra un objeto, debes mostrar un mensaje personalizado que incluya el nombre del objeto en mayúsculas y la cantidad total en el inventario. Por ejemplo: \"¡Has encontrado una ESPADA! Ahora tienes 2 ESPADAS.\" Escribe el código que genera este mensaje utilizando manipulación de strings y accediendo al inventario."
      ],
      "metadata": {
        "id": "8H5gRuXcD3PK"
      }
    },
    {
      "cell_type": "code",
      "source": [
        "objeto = str(input(\"Que objeto encontraste: \"))\n",
        "\n",
        "if objeto in inventario:\n",
        "  inventario[objeto] += 1\n",
        "else:\n",
        "  inventario[objeto]=1\n",
        "\n",
        "cantidad_total = inventario[objeto]\n",
        "print(f\"¡Has encontrado un {objeto.upper()}! Ahora tienes {cantidad_total} {objeto.upper()}S.\")"
      ],
      "metadata": {
        "colab": {
          "base_uri": "https://localhost:8080/"
        },
        "id": "vO5dAlRXD0Y_",
        "outputId": "e3fdac91-5025-4483-ffa8-8ce55680af80"
      },
      "execution_count": 8,
      "outputs": [
        {
          "output_type": "stream",
          "name": "stdout",
          "text": [
            "Que objeto encontraste: escudo\n",
            "¡Has encontrado un ESCUDO! Ahora tienes 3 ESCUDOS.\n"
          ]
        }
      ]
    },
    {
      "cell_type": "markdown",
      "source": [
        "Pregunta 6: Slicing y Control de Flujo\n",
        "\n",
        "Las trampas en el laberinto están en posiciones almacenadas en la lista trampas = [(1, 2), (3, 4), (2, 2)]. Escribe el código que verifica si la posición actual del jugador coincide con alguna trampa. Si es así, reduce la salud del jugador en 10 puntos. La salud inicial del jugador es 100. Utiliza una técnica eficiente para la verificación.\n"
      ],
      "metadata": {
        "id": "vRb5h5rFFJn5"
      }
    },
    {
      "cell_type": "code",
      "source": [
        "posicion"
      ],
      "metadata": {
        "colab": {
          "base_uri": "https://localhost:8080/"
        },
        "id": "qHWi-K4iFkyJ",
        "outputId": "7d61a735-940f-4505-91bd-77754edbbc10"
      },
      "execution_count": 9,
      "outputs": [
        {
          "output_type": "execute_result",
          "data": {
            "text/plain": [
              "(2, 2)"
            ]
          },
          "metadata": {},
          "execution_count": 9
        }
      ]
    },
    {
      "cell_type": "code",
      "source": [
        "# Verificar si la posición del jugador coincide con alguna trampa\n",
        "salud = 100\n",
        "trampas = [(1, 2), (3, 4), (2, 2)]\n",
        "\n",
        "if posicion in trampas[:]:\n",
        "    salud = salud-10\n",
        "    print(f\"¡Has caído en una trampa! Tu salud ahora es: {salud}\")\n",
        "else:\n",
        "    print(\"Estás a salvo. Tu salud sigue siendo:\", salud)"
      ],
      "metadata": {
        "colab": {
          "base_uri": "https://localhost:8080/"
        },
        "id": "bxRTVilyFsg5",
        "outputId": "c8554115-5638-4abb-e997-c466f61d5370"
      },
      "execution_count": 10,
      "outputs": [
        {
          "output_type": "stream",
          "name": "stdout",
          "text": [
            "¡Has caído en una trampa! Tu salud ahora es: 90\n"
          ]
        }
      ]
    },
    {
      "cell_type": "markdown",
      "source": [
        " Pregunta 7: Listas Anidadas y Modificación de Matrices\n",
        "\n",
        "Cada vez que el jugador se mueve, actualiza la matriz del laberinto para reflejar el movimiento: coloca un espacio ' ' en la posición anterior y una 'P' en la nueva posición. Escribe el código que realiza esta actualización sin modificar las paredes ni otros elementos."
      ],
      "metadata": {
        "id": "1Ses8-DfGeXC"
      }
    },
    {
      "cell_type": "code",
      "source": [
        "laberinto"
      ],
      "metadata": {
        "colab": {
          "base_uri": "https://localhost:8080/"
        },
        "id": "IgduwiBIG-UE",
        "outputId": "28882a7a-6ea9-45d5-987c-c0704b337b18"
      },
      "execution_count": 11,
      "outputs": [
        {
          "output_type": "execute_result",
          "data": {
            "text/plain": [
              "[['#', '#', '#', '#', '#'],\n",
              " ['#', ' ', ' ', ' ', '#'],\n",
              " ['#', ' ', 'P', ' ', '#'],\n",
              " ['#', ' ', ' ', ' ', '#'],\n",
              " ['#', '#', '#', '#', '#']]"
            ]
          },
          "metadata": {},
          "execution_count": 11
        }
      ]
    },
    {
      "cell_type": "code",
      "source": [
        "X_anterior, Y_anterior = posicion\n",
        "laberinto[X_anterior][Y_anterior] = ' '\n",
        "\n",
        "posicion_fila = int(input(\"Ingrese la nueva posicion X del jugador: \"))\n",
        "posicion_columna = int(input(\"Ingrese la nueva posicion Y del jugador: \"))\n",
        "posicion = (posicion_fila,posicion_columna)\n",
        "\n",
        "laberinto[posicion[0]][posicion[1]] = 'P'"
      ],
      "metadata": {
        "colab": {
          "base_uri": "https://localhost:8080/"
        },
        "id": "ToFJOQ5cGr9Y",
        "outputId": "5b27b7e9-584c-475c-a5d1-adc90208733b"
      },
      "execution_count": 12,
      "outputs": [
        {
          "name": "stdout",
          "output_type": "stream",
          "text": [
            "Ingrese la nueva posicion X del jugador: 1\n",
            "Ingrese la nueva posicion Y del jugador: 2\n"
          ]
        }
      ]
    },
    {
      "cell_type": "code",
      "source": [
        "laberinto"
      ],
      "metadata": {
        "colab": {
          "base_uri": "https://localhost:8080/"
        },
        "id": "q52iXlaVHSVG",
        "outputId": "7354ac5e-fc9e-4f2b-9dfe-68b888a96cbb"
      },
      "execution_count": 14,
      "outputs": [
        {
          "output_type": "execute_result",
          "data": {
            "text/plain": [
              "[['#', '#', '#', '#', '#'],\n",
              " ['#', ' ', 'P', ' ', '#'],\n",
              " ['#', ' ', ' ', ' ', '#'],\n",
              " ['#', ' ', ' ', ' ', '#'],\n",
              " ['#', '#', '#', '#', '#']]"
            ]
          },
          "metadata": {},
          "execution_count": 14
        }
      ]
    },
    {
      "cell_type": "markdown",
      "source": [
        "Pregunta 8: Control de Flujo y Movimientos del Jugador\n",
        "\n",
        "Escribe el código que permite al jugador moverse dentro del laberinto ingresando una dirección: 'arriba', 'abajo', 'izquierda' o 'derecha'. Actualiza la posición del jugador según la dirección ingresada, asegurándote de que no salga de los límites de la matriz ni atraviese paredes ('#'). Utiliza estructuras de control (condicionales) para manejar las reglas de movimiento."
      ],
      "metadata": {
        "id": "6vSvWiLfHs0O"
      }
    },
    {
      "cell_type": "code",
      "source": [
        "direccion = str(input(\"¿Cual es la direccion del jugador: \"))"
      ],
      "metadata": {
        "colab": {
          "base_uri": "https://localhost:8080/"
        },
        "id": "1C9d_YAPLIcv",
        "outputId": "3899950c-f5a2-455e-fa6f-a9e87445eee6"
      },
      "execution_count": 15,
      "outputs": [
        {
          "name": "stdout",
          "output_type": "stream",
          "text": [
            "¿Cual es la direccion del jugador: arriba\n"
          ]
        }
      ]
    },
    {
      "cell_type": "code",
      "source": [
        "if direccion == 'arriba':\n",
        "  nueva_posicion = (posicion_fila - 1, posicion_columna)\n",
        "elif direccion == 'abajo':\n",
        "  nueva_posicion = (posicion_fila + 1, posicion_columna)\n",
        "elif direccion == 'izquierda':\n",
        "  nueva_posicion = (posicion_fila, posicion_columna - 1)\n",
        "elif direccion == 'derecha':\n",
        "  nueva_posicion = (posicion_fila, posicion_columna + 1)\n",
        "else:\n",
        "  print(\"Dirección no válida\")"
      ],
      "metadata": {
        "id": "C-VRvr67LCJj"
      },
      "execution_count": 16,
      "outputs": []
    },
    {
      "cell_type": "code",
      "source": [
        "nueva_posicion"
      ],
      "metadata": {
        "colab": {
          "base_uri": "https://localhost:8080/"
        },
        "id": "7OaEsT9sLmN7",
        "outputId": "a193127c-2b37-47a8-c2a7-f58b0730b56d"
      },
      "execution_count": 17,
      "outputs": [
        {
          "output_type": "execute_result",
          "data": {
            "text/plain": [
              "(0, 2)"
            ]
          },
          "metadata": {},
          "execution_count": 17
        }
      ]
    },
    {
      "cell_type": "code",
      "source": [
        "filas, columnas = 5, 5\n",
        "nueva_fila, nueva_col = nueva_posicion\n",
        "\n",
        "if (0 <= nueva_fila < filas and 0 <= nueva_col < columnas and laberinto[nueva_fila][nueva_col] != '#'):\n",
        "  laberinto[posicion_fila][posicion_columna] = ' '\n",
        "  posicion_jugador = nueva_posicion\n",
        "  laberinto[nueva_fila][nueva_col] = 'P'\n",
        "else:\n",
        "  print(\"No es posible el movimiento\")"
      ],
      "metadata": {
        "colab": {
          "base_uri": "https://localhost:8080/"
        },
        "id": "Ct8IhsSiLt6r",
        "outputId": "83d19f29-6e5b-4b7c-d310-9748926e9e37"
      },
      "execution_count": 18,
      "outputs": [
        {
          "output_type": "stream",
          "name": "stdout",
          "text": [
            "No es posible el movimiento\n"
          ]
        }
      ]
    },
    {
      "cell_type": "code",
      "source": [],
      "metadata": {
        "id": "xPsJXNwJOWOd"
      },
      "execution_count": null,
      "outputs": []
    }
  ]
}