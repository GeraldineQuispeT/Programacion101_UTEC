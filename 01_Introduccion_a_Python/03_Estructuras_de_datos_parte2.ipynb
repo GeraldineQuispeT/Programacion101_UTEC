{
  "nbformat": 4,
  "nbformat_minor": 0,
  "metadata": {
    "colab": {
      "provenance": [],
      "include_colab_link": true
    },
    "kernelspec": {
      "name": "python3",
      "display_name": "Python 3"
    },
    "language_info": {
      "name": "python"
    }
  },
  "cells": [
    {
      "cell_type": "markdown",
      "metadata": {
        "id": "view-in-github",
        "colab_type": "text"
      },
      "source": [
        "<a href=\"https://colab.research.google.com/github/GeraldineQuispeT/Programacion101_UTEC/blob/main/01_Introduccion_a_Python/03_Estructuras_de_datos_parte2.ipynb\" target=\"_parent\"><img src=\"https://colab.research.google.com/assets/colab-badge.svg\" alt=\"Open In Colab\"/></a>"
      ]
    },
    {
      "cell_type": "markdown",
      "source": [
        "<img src=\"https://www.ctic.uni.edu.pe/wp-content/uploads/2022/04/588px-x-348px-web-1.png\" alt=\"HTML5 Icon\" width=\"900\" height=\"350\" >\n"
      ],
      "metadata": {
        "id": "0xv6Piu7tRkP"
      }
    },
    {
      "cell_type": "markdown",
      "source": [
        "<h1 align=center><font size = 5>ESTRUCTURAS DE DATOS - PARTE 2\n",
        "</font></h1>\n",
        "\n",
        "---\n"
      ],
      "metadata": {
        "id": "iJvpwSTptUZI"
      }
    },
    {
      "cell_type": "markdown",
      "source": [
        "**Tabla de Contenidos**\n",
        "\n",
        "- Diccionarios\n",
        "- Sets\n",
        "- Matrices\n",
        "\n",
        "---"
      ],
      "metadata": {
        "id": "gM88wvb0uEt7"
      }
    },
    {
      "cell_type": "markdown",
      "source": [
        "## 1. Diccionarios\n",
        "\n",
        "**Concepto:**\n",
        "\n",
        "Un diccionario es una estructura de datos que almacena pares clave-valor. Las claves deben ser únicas y se utilizan para acceder a los valores asociados."
      ],
      "metadata": {
        "id": "P3deKEL-tbDJ"
      }
    },
    {
      "cell_type": "markdown",
      "source": [
        "### Ejemplo 1.1: Creación de Diccionarios y Acceso a Elementos\n"
      ],
      "metadata": {
        "id": "hlZnLeo_uPwN"
      }
    },
    {
      "cell_type": "code",
      "source": [
        "# Crear un diccionario\n",
        "persona = {'nombre': 'Ana', 'edad': 30, 'ciudad': 'Lima'}\n",
        "print(persona)"
      ],
      "metadata": {
        "id": "P-TTXZxuuRe7",
        "outputId": "714e2aed-5cbc-482e-84f7-6302ff2fbb5e",
        "colab": {
          "base_uri": "https://localhost:8080/"
        }
      },
      "execution_count": 1,
      "outputs": [
        {
          "output_type": "stream",
          "name": "stdout",
          "text": [
            "{'nombre': 'Ana', 'edad': 30, 'ciudad': 'Lima'}\n"
          ]
        }
      ]
    },
    {
      "cell_type": "code",
      "source": [
        "# Acceder a un valor\n",
        "print(\"Nombre:\", persona['nombre'])\n",
        "print(\"Ciudad:\", persona.get('ciudad'))\n"
      ],
      "metadata": {
        "id": "tPRrAukRuS1S",
        "outputId": "50f9d8e8-1085-4469-f05f-caffc4d7248f",
        "colab": {
          "base_uri": "https://localhost:8080/"
        }
      },
      "execution_count": 2,
      "outputs": [
        {
          "output_type": "stream",
          "name": "stdout",
          "text": [
            "Nombre: Ana\n",
            "Ciudad: Lima\n"
          ]
        }
      ]
    },
    {
      "cell_type": "code",
      "source": [
        "\n",
        "# Añadir un nuevo par clave-valor\n",
        "persona['profesion'] = 'Ingeniera'\n",
        "print(persona)"
      ],
      "metadata": {
        "id": "Ineeezk6uUjd",
        "outputId": "2b707390-79f5-4a65-bf6e-1fb1981c4a22",
        "colab": {
          "base_uri": "https://localhost:8080/"
        }
      },
      "execution_count": 3,
      "outputs": [
        {
          "output_type": "stream",
          "name": "stdout",
          "text": [
            "{'nombre': 'Ana', 'edad': 30, 'ciudad': 'Lima', 'profesion': 'Ingeniera'}\n"
          ]
        }
      ]
    },
    {
      "cell_type": "code",
      "source": [
        "# Eliminar un par clave-valor\n",
        "del persona['ciudad']\n",
        "print(persona)"
      ],
      "metadata": {
        "id": "tuA4FSZNuVv1",
        "outputId": "95fa7732-208b-4ff6-880b-9699611f48b5",
        "colab": {
          "base_uri": "https://localhost:8080/"
        }
      },
      "execution_count": 4,
      "outputs": [
        {
          "output_type": "stream",
          "name": "stdout",
          "text": [
            "{'nombre': 'Ana', 'edad': 30, 'profesion': 'Ingeniera'}\n"
          ]
        }
      ]
    },
    {
      "cell_type": "markdown",
      "source": [
        "### Ejemplo 1.2: Métodos Útiles de Diccionarios\n"
      ],
      "metadata": {
        "id": "FiQWLZxXuY6G"
      }
    },
    {
      "cell_type": "code",
      "source": [
        "# Obtener todas las claves\n",
        "print(persona.keys())\n"
      ],
      "metadata": {
        "id": "0BNmkeBXua1R",
        "outputId": "401196f4-af1b-4659-82ed-4f8dcc973c94",
        "colab": {
          "base_uri": "https://localhost:8080/"
        }
      },
      "execution_count": 5,
      "outputs": [
        {
          "output_type": "stream",
          "name": "stdout",
          "text": [
            "dict_keys(['nombre', 'edad', 'profesion'])\n"
          ]
        }
      ]
    },
    {
      "cell_type": "code",
      "source": [
        "# Obtener todos los valores\n",
        "print(persona.values())\n"
      ],
      "metadata": {
        "id": "67-6NfYiubwM",
        "outputId": "688e73ba-44c8-4887-fa6c-d208aea0bb46",
        "colab": {
          "base_uri": "https://localhost:8080/"
        }
      },
      "execution_count": 6,
      "outputs": [
        {
          "output_type": "stream",
          "name": "stdout",
          "text": [
            "dict_values(['Ana', 30, 'Ingeniera'])\n"
          ]
        }
      ]
    },
    {
      "cell_type": "code",
      "source": [
        "# Comprobar si una clave existe en el diccionario\n",
        "if 'edad' in persona:\n",
        "    print(\"La clave 'edad' está en el diccionario.\")\n"
      ],
      "metadata": {
        "id": "UPfEsSI_ucnd",
        "outputId": "5fd43fec-8070-4e19-9358-d9cedc2ea42b",
        "colab": {
          "base_uri": "https://localhost:8080/"
        }
      },
      "execution_count": 7,
      "outputs": [
        {
          "output_type": "stream",
          "name": "stdout",
          "text": [
            "La clave 'edad' está en el diccionario.\n"
          ]
        }
      ]
    },
    {
      "cell_type": "markdown",
      "source": [
        "### Ejercicio 1: Trabajando con Diccionarios\n",
        "\n",
        "- Crea un diccionario que contenga información sobre un automóvil (marca, modelo, año, color).\n",
        "- Accede a cada valor usando su clave.\n",
        "- Añade una clave para el precio del automóvil.\n",
        "- Elimina la clave del color del automóvil y muestra el diccionario actualizado.\n",
        "- Usa keys() y values() para imprimir las claves y valores del diccionario.\n",
        "\n"
      ],
      "metadata": {
        "id": "oECCq-N5uguf"
      }
    },
    {
      "cell_type": "code",
      "source": [
        "automovil = {'marca':'Nissan',\n",
        "             'modelo':'Modelo2024',\n",
        "             'año':'2024',\n",
        "             'color':'negro'}\n",
        "\n",
        "print('Los valores son: ',automovil.keys())\n",
        "automovil['precio']=250000\n",
        "print('Los nuevos valores son: ',automovil)\n",
        "del automovil['color']\n",
        "print('Los nuevos valores son: ',automovil)"
      ],
      "metadata": {
        "id": "x2uN2fYnume5",
        "outputId": "9d75fa11-1072-4eac-d918-182c460bed4c",
        "colab": {
          "base_uri": "https://localhost:8080/"
        }
      },
      "execution_count": 27,
      "outputs": [
        {
          "output_type": "stream",
          "name": "stdout",
          "text": [
            "Los valores son:  dict_keys(['marca', 'modelo', 'año', 'color'])\n",
            "Los nuevos valores son:  {'marca': 'Nissan', 'modelo': 'Modelo2024', 'año': '2024', 'color': 'negro', 'precio': 250000}\n",
            "Los nuevos valores son:  {'marca': 'Nissan', 'modelo': 'Modelo2024', 'año': '2024', 'precio': 250000}\n"
          ]
        }
      ]
    },
    {
      "cell_type": "code",
      "source": [
        "print('Las claves son: ',automovil.keys())\n",
        "print('Los valores son: ',automovil.values())"
      ],
      "metadata": {
        "id": "eaUIXQ3HDZIe",
        "outputId": "7281d045-3057-4902-a50d-ab58f836f9e3",
        "colab": {
          "base_uri": "https://localhost:8080/"
        }
      },
      "execution_count": 28,
      "outputs": [
        {
          "output_type": "stream",
          "name": "stdout",
          "text": [
            "Las claves son:  dict_keys(['marca', 'modelo', 'año', 'precio'])\n",
            "Los valores son:  dict_values(['Nissan', 'Modelo2024', '2024', 250000])\n"
          ]
        }
      ]
    },
    {
      "cell_type": "markdown",
      "source": [
        "## 2. Sets\n",
        "\n",
        "Los sets son colecciones de elementos únicos y desordenados. Son útiles para eliminar duplicados o realizar operaciones matemáticas como intersección y unión."
      ],
      "metadata": {
        "id": "-omdmjTguoW-"
      }
    },
    {
      "cell_type": "markdown",
      "source": [
        "### Ejemplo 2.1: Creación y Modificación de Sets"
      ],
      "metadata": {
        "id": "5GC8_tPvuu3r"
      }
    },
    {
      "cell_type": "code",
      "source": [
        "# Crear un set\n",
        "numeros = {1, 2, 3, 4, 5}\n",
        "print(numeros)\n"
      ],
      "metadata": {
        "id": "D2ClA0CAutom",
        "outputId": "d7e3e1ca-8fb5-4477-b1c2-f31730cd8e0d",
        "colab": {
          "base_uri": "https://localhost:8080/"
        }
      },
      "execution_count": 8,
      "outputs": [
        {
          "output_type": "stream",
          "name": "stdout",
          "text": [
            "{1, 2, 3, 4, 5}\n"
          ]
        }
      ]
    },
    {
      "cell_type": "code",
      "source": [
        "# Añadir elementos\n",
        "numeros.add(6)\n",
        "print(numeros)\n"
      ],
      "metadata": {
        "id": "deMM35okuyPM",
        "outputId": "7eab208b-aaa7-4df5-c81b-270c444cd36f",
        "colab": {
          "base_uri": "https://localhost:8080/"
        }
      },
      "execution_count": 9,
      "outputs": [
        {
          "output_type": "stream",
          "name": "stdout",
          "text": [
            "{1, 2, 3, 4, 5, 6}\n"
          ]
        }
      ]
    },
    {
      "cell_type": "code",
      "source": [
        "# Eliminar un elemento\n",
        "numeros.remove(3)\n",
        "print(numeros)\n"
      ],
      "metadata": {
        "id": "VQjmgrWyuzAr",
        "outputId": "717fb3a5-cfa9-47b5-b51f-2a49adf215a7",
        "colab": {
          "base_uri": "https://localhost:8080/"
        }
      },
      "execution_count": 10,
      "outputs": [
        {
          "output_type": "stream",
          "name": "stdout",
          "text": [
            "{1, 2, 4, 5, 6}\n"
          ]
        }
      ]
    },
    {
      "cell_type": "markdown",
      "source": [
        "### Ejemplo 2.2: Operaciones de Conjuntos\n"
      ],
      "metadata": {
        "id": "8I9pqkBWu3qE"
      }
    },
    {
      "cell_type": "code",
      "source": [
        "# Crear otro set\n",
        "otro_set = {4, 5, 6, 7}"
      ],
      "metadata": {
        "id": "169QsOxuvAbe"
      },
      "execution_count": 11,
      "outputs": []
    },
    {
      "cell_type": "code",
      "source": [
        "# Unión de sets (todos los elementos)\n",
        "union = numeros.union(otro_set)\n",
        "print(\"Unión:\", union)\n"
      ],
      "metadata": {
        "id": "1hvqQ2F_vBtY",
        "outputId": "268241f1-32b8-479d-f131-da80150aa66e",
        "colab": {
          "base_uri": "https://localhost:8080/"
        }
      },
      "execution_count": 12,
      "outputs": [
        {
          "output_type": "stream",
          "name": "stdout",
          "text": [
            "Unión: {1, 2, 4, 5, 6, 7}\n"
          ]
        }
      ]
    },
    {
      "cell_type": "code",
      "source": [
        "# Intersección de sets (elementos comunes)\n",
        "interseccion = numeros.intersection(otro_set)\n",
        "print(\"Intersección:\", interseccion)\n"
      ],
      "metadata": {
        "id": "0AU3PFc1vCh2",
        "outputId": "51c20127-1464-4774-e731-dc79ed14c173",
        "colab": {
          "base_uri": "https://localhost:8080/"
        }
      },
      "execution_count": 13,
      "outputs": [
        {
          "output_type": "stream",
          "name": "stdout",
          "text": [
            "Intersección: {4, 5, 6}\n"
          ]
        }
      ]
    },
    {
      "cell_type": "markdown",
      "source": [
        "### Ejercicio 2: Operaciones con Sets\n",
        "\n",
        "- Crea dos sets de números: uno con números del 1 al 10 y otro con números del 5 al 15.\n",
        "- Encuentra la intersección y unión de ambos sets.\n",
        "- Elimina un número del primer set.\n",
        "- Usa un set para almacenar los nombres de tus amigos. Asegúrate de que no haya duplicados."
      ],
      "metadata": {
        "id": "y15kQNAQvFx_"
      }
    },
    {
      "cell_type": "code",
      "source": [
        "set1={1,2,3,4,5,6,7,8,9,10}\n",
        "set2={5,6,7,8,9,10,11,12,13,14,15}\n",
        "\n",
        "print('Los valores de la interseccion son: ',set1.intersection(set2))\n",
        "print('Los valores de la union son: ',set1.union(set2))"
      ],
      "metadata": {
        "id": "CqudC_sBvJEQ",
        "outputId": "812c1d03-af98-4cb0-e155-11886c64c976",
        "colab": {
          "base_uri": "https://localhost:8080/"
        }
      },
      "execution_count": 30,
      "outputs": [
        {
          "output_type": "stream",
          "name": "stdout",
          "text": [
            "Los valores de la interseccion son:  {5, 6, 7, 8, 9, 10}\n",
            "Los valores de la union son:  {1, 2, 3, 4, 5, 6, 7, 8, 9, 10, 11, 12, 13, 14, 15}\n"
          ]
        }
      ]
    },
    {
      "cell_type": "code",
      "source": [
        "set1.remove(1)\n",
        "print('Los nuevos numeros del set1 son: ',set1)"
      ],
      "metadata": {
        "id": "U-2IP02oECRH",
        "outputId": "11f10dfb-02c4-47f7-e564-44f090caff83",
        "colab": {
          "base_uri": "https://localhost:8080/"
        }
      },
      "execution_count": 33,
      "outputs": [
        {
          "output_type": "stream",
          "name": "stdout",
          "text": [
            "Los nuevos numeros del set1 son:  {2, 3, 4, 5, 6, 7, 8, 9, 10}\n"
          ]
        }
      ]
    },
    {
      "cell_type": "code",
      "source": [
        "amigos=set()\n",
        "amigos.add('Maria')\n",
        "amigos.add('Juan')\n",
        "amigos.add('Julia')\n",
        "amigos.add('Carlos')\n",
        "amigos.add('Miiran')\n",
        "amigos.add('Jose')\n",
        "\n",
        "print('Los nombres de mis amigos son: ', amigos)"
      ],
      "metadata": {
        "id": "r6XcxY9vECb9",
        "outputId": "e0601ab6-2f25-4ebd-baec-caa4e1cf71ff",
        "colab": {
          "base_uri": "https://localhost:8080/"
        }
      },
      "execution_count": 34,
      "outputs": [
        {
          "output_type": "stream",
          "name": "stdout",
          "text": [
            "Los nombres de mis amigos son:  {'Jose', 'Maria', 'Carlos', 'Miiran', 'Julia', 'Juan'}\n"
          ]
        }
      ]
    },
    {
      "cell_type": "markdown",
      "source": [
        "## 3. Matrices\n",
        "\n",
        "En Python, las matrices pueden representarse como listas de listas. Para manipular matrices más avanzadas y realizar cálculos eficientes, utilizamos la librería NumPy."
      ],
      "metadata": {
        "id": "Pg3-dd-KvK9D"
      }
    },
    {
      "cell_type": "markdown",
      "source": [
        "### Ejemplo 3.1: Matrices con Listas de Listas\n"
      ],
      "metadata": {
        "id": "X7qGslkLvNya"
      }
    },
    {
      "cell_type": "code",
      "source": [
        "# Crear una matriz 3x3 con listas anidadas\n",
        "matriz = [\n",
        "    [1, 2, 3],\n",
        "    [4, 5, 6],\n",
        "    [7, 8, 9]\n",
        "]\n",
        "print(matriz)\n"
      ],
      "metadata": {
        "id": "TK57Y4GUvQ3Z",
        "outputId": "f45ab959-09ed-4727-ba5a-909d7f54c009",
        "colab": {
          "base_uri": "https://localhost:8080/"
        }
      },
      "execution_count": 14,
      "outputs": [
        {
          "output_type": "stream",
          "name": "stdout",
          "text": [
            "[[1, 2, 3], [4, 5, 6], [7, 8, 9]]\n"
          ]
        }
      ]
    },
    {
      "cell_type": "code",
      "source": [
        "# Acceder a elementos de la matriz\n",
        "print(\"Elemento en [1][1]:\", matriz[1][1])\n"
      ],
      "metadata": {
        "id": "D0MpaT6xvSH6",
        "outputId": "e82f8efe-fed1-4baf-c6e5-a1ce30121f19",
        "colab": {
          "base_uri": "https://localhost:8080/"
        }
      },
      "execution_count": 15,
      "outputs": [
        {
          "output_type": "stream",
          "name": "stdout",
          "text": [
            "Elemento en [1][1]: 5\n"
          ]
        }
      ]
    },
    {
      "cell_type": "code",
      "source": [
        "# Modificar un elemento\n",
        "matriz[2][0] = 10\n",
        "print(matriz)"
      ],
      "metadata": {
        "id": "02wHfdwMvUB_",
        "outputId": "3e3d9d3e-9d40-4d07-fcd9-46dde753adcf",
        "colab": {
          "base_uri": "https://localhost:8080/"
        }
      },
      "execution_count": 16,
      "outputs": [
        {
          "output_type": "stream",
          "name": "stdout",
          "text": [
            "[[1, 2, 3], [4, 5, 6], [10, 8, 9]]\n"
          ]
        }
      ]
    },
    {
      "cell_type": "markdown",
      "source": [
        "### Ejemplo 3.2: Manipulación de Matrices con NumPy\n"
      ],
      "metadata": {
        "id": "3cCGTHmTvXXy"
      }
    },
    {
      "cell_type": "code",
      "source": [
        "import numpy as np\n",
        "\n",
        "# Crear una matriz 3x3 con NumPy\n",
        "matriz_np = np.array([\n",
        "    [1, 2, 3],\n",
        "    [4, 5, 6],\n",
        "    [7, 8, 9]\n",
        "])\n",
        "print(matriz_np)\n",
        "\n",
        "\n"
      ],
      "metadata": {
        "id": "FZytH_LBvZrP",
        "outputId": "a523d49e-d2a7-4854-957c-97b9819f1922",
        "colab": {
          "base_uri": "https://localhost:8080/"
        }
      },
      "execution_count": 17,
      "outputs": [
        {
          "output_type": "stream",
          "name": "stdout",
          "text": [
            "[[1 2 3]\n",
            " [4 5 6]\n",
            " [7 8 9]]\n"
          ]
        }
      ]
    },
    {
      "cell_type": "code",
      "source": [
        "# Sumar 10 a cada elemento\n",
        "print(matriz_np + 10)\n",
        "\n"
      ],
      "metadata": {
        "id": "n2yT2V3tvbEE",
        "outputId": "36eedbf3-1ef6-483a-f494-49991f35683e",
        "colab": {
          "base_uri": "https://localhost:8080/"
        }
      },
      "execution_count": 18,
      "outputs": [
        {
          "output_type": "stream",
          "name": "stdout",
          "text": [
            "[[11 12 13]\n",
            " [14 15 16]\n",
            " [17 18 19]]\n"
          ]
        }
      ]
    },
    {
      "cell_type": "code",
      "source": [
        "# Multiplicar cada elemento por 2\n",
        "print(matriz_np * 2)"
      ],
      "metadata": {
        "id": "RS-Cqk3rvb7k",
        "outputId": "8f505504-1306-4a20-f01c-072b78614152",
        "colab": {
          "base_uri": "https://localhost:8080/"
        }
      },
      "execution_count": 19,
      "outputs": [
        {
          "output_type": "stream",
          "name": "stdout",
          "text": [
            "[[ 2  4  6]\n",
            " [ 8 10 12]\n",
            " [14 16 18]]\n"
          ]
        }
      ]
    },
    {
      "cell_type": "markdown",
      "source": [
        "### Ejercicio 3: Operaciones con Matrices\n",
        "\n",
        "- Crea una matriz 3x3 usando listas de listas.\n",
        "- Modifica un valor de la matriz y muestra la matriz actualizada.\n",
        "- Usa NumPy para crear una matriz 4x4 con números aleatorios enteros.\n",
        "- Realiza una operación de suma con la matriz (suma 5 a cada elemento).\n",
        "- Multiplica los elementos de la matriz por 2 usando NumPy."
      ],
      "metadata": {
        "id": "lR6HCR3DveEn"
      }
    },
    {
      "cell_type": "code",
      "source": [
        "lista1=list(range(1,4))\n",
        "lista2=list(range(4,7))\n",
        "lista3=list(range(7,10))\n",
        "\n",
        "matrix=[lista1,lista2,lista3]\n",
        "print('La matriz creada es: ',matrix)\n",
        "matrix[2][0]=10\n",
        "print('La nueva matriz modificada es: ',matrix)"
      ],
      "metadata": {
        "id": "7RMRCaRPvh1s",
        "outputId": "d233c514-0b48-46c7-c0f0-d4dda9e3747b",
        "colab": {
          "base_uri": "https://localhost:8080/"
        }
      },
      "execution_count": 38,
      "outputs": [
        {
          "output_type": "stream",
          "name": "stdout",
          "text": [
            "La matriz creada es:  [[1, 2, 3], [4, 5, 6], [7, 8, 9]]\n",
            "La nueva matriz modificada es:  [[1, 2, 3], [4, 5, 6], [10, 8, 9]]\n"
          ]
        }
      ]
    },
    {
      "cell_type": "code",
      "source": [
        "matrix2 = np.random.randint(0, 10, size=(4, 4))\n",
        "print('La matriz creada es: ',matrix2)\n",
        "matrix2 =matrix2+5\n",
        "print('\\nLa matriz +5 es: ',matrix2)\n",
        "matrix2 =matrix2*2\n",
        "print('\\nLa matriz *2 es: ',matrix2)"
      ],
      "metadata": {
        "id": "9UCj9d1tFeif",
        "outputId": "24eb665f-47fd-46c2-d5a3-15063ab58960",
        "colab": {
          "base_uri": "https://localhost:8080/"
        }
      },
      "execution_count": 46,
      "outputs": [
        {
          "output_type": "stream",
          "name": "stdout",
          "text": [
            "La matriz creada es:  [[4 5 1 5]\n",
            " [4 6 5 2]\n",
            " [7 2 2 3]\n",
            " [3 0 8 7]]\n",
            "\n",
            "La matriz +5 es:  [[ 9 10  6 10]\n",
            " [ 9 11 10  7]\n",
            " [12  7  7  8]\n",
            " [ 8  5 13 12]]\n",
            "\n",
            "La matriz *2 es:  [[18 20 12 20]\n",
            " [18 22 20 14]\n",
            " [24 14 14 16]\n",
            " [16 10 26 24]]\n"
          ]
        }
      ]
    },
    {
      "cell_type": "markdown",
      "source": [
        "## 4. Desafío\n",
        "\n",
        "\n",
        "Eres el encargado de un almacén de productos electrónicos. Tienes un registro de ventas semanales para teléfonos, laptops y tabletas. Necesitas analizar las ventas para mejorar la gestión.\n",
        "\n",
        "- Crea tres listas: una para teléfonos, otra para laptops y otra para tabletas con las ventas de cada día durante una semana.\n",
        "- Usa slicing para obtener las ventas de los últimos 3 días de cada producto.\n",
        "- Usa listas por comprensión para calcular el total de ventas de cada producto y el promedio de ventas diarias.\n",
        "- Clasifica los productos en \"ventas altas\" o \"ventas bajas\" según si el promedio de ventas es mayor o menor a 5.\n",
        "\n",
        "Instrucciones:\n",
        "Usa sum() y len() para calcular el total de ventas y el promedio.\n",
        "Clasifica las ventas usando listas por comprensión."
      ],
      "metadata": {
        "id": "ROqSXb4Avk_T"
      }
    },
    {
      "cell_type": "code",
      "source": [
        "telefonos = [13, 12, 8, 25, 22, 10, 17]\n",
        "laptops = [10, 20, 40, 56, 79, 30, 30]\n",
        "tabletas = [5, 1, 1, 2, 4, 6, 9]\n",
        "\n",
        "print('Las ventas del producto telefonos para los 3 ultimos dias son: ',telefonos[-3:])\n",
        "print('Las ventas del producto laptops para los 3 ultimos dias son: ',laptops[-3:])\n",
        "print('Las ventas del producto tabletas para los 3 ultimos dias son: ',tabletas[-3:])\n",
        "\n",
        "ventas_telefonos=sum(producto for producto in telefonos)\n",
        "ventas_laptops=sum(producto for producto in laptops)\n",
        "ventas_tabletas=sum(producto for producto in tabletas)\n",
        "\n",
        "promedio_telefonos=int(sum(producto for producto in telefonos)/len(telefonos))\n",
        "promedio_laptops=int(sum(producto for producto in laptops)/len(laptops))\n",
        "promedio_tabletas=int(sum(producto for producto in tabletas)/len(tabletas))\n",
        "\n",
        "print('\\nEl total de ventas en telefonos son: ',ventas_telefonos,' y el promedio diario es: ',promedio_telefonos)\n",
        "print('El total de ventas en laptops son: ',ventas_laptops,' y el promedio diario es: ',promedio_laptops)\n",
        "print('El total de ventas en tabletas son: ',ventas_tabletas,' y el promedio diario es: ',promedio_tabletas)\n",
        "\n",
        "def clasifica_productos(promedio_diario):\n",
        "  if promedio_diario > 5:\n",
        "    return \"buenas ventas\"\n",
        "  else:\n",
        "    return \"malas ventas\"\n",
        "\n",
        "print(\"\\nLa clasificacion del producto telefonos es\", clasifica_productos(promedio_telefonos))\n",
        "print(\"La clasificacion del producto laptops es\", clasifica_productos(promedio_laptops))\n",
        "print(\"La clasificacion del producto tabletas es\", clasifica_productos(promedio_tabletas))"
      ],
      "metadata": {
        "id": "93wXCVCZv4TT",
        "outputId": "90d07c47-d35e-4693-f554-38998c8a12fd",
        "colab": {
          "base_uri": "https://localhost:8080/"
        }
      },
      "execution_count": 63,
      "outputs": [
        {
          "output_type": "stream",
          "name": "stdout",
          "text": [
            "Las ventas del producto telefonos para los 3 ultimos dias son:  [22, 10, 17]\n",
            "Las ventas del producto laptops para los 3 ultimos dias son:  [79, 30, 30]\n",
            "Las ventas del producto tabletas para los 3 ultimos dias son:  [4, 6, 9]\n",
            "\n",
            "El total de ventas en telefonos son:  107  y el promedio diario es:  15\n",
            "El total de ventas en laptops son:  265  y el promedio diario es:  37\n",
            "El total de ventas en tabletas son:  28  y el promedio diario es:  4\n",
            "\n",
            "La clasificacion del producto telefonos es buenas ventas\n",
            "La clasificacion del producto laptops es buenas ventas\n",
            "La clasificacion del producto tabletas es malas ventas\n"
          ]
        }
      ]
    },
    {
      "cell_type": "markdown",
      "source": [
        "---\n",
        "\n",
        "# Gracias por completar este laboratorio!\n",
        "\n",
        "---"
      ],
      "metadata": {
        "id": "qUpDNm7iv-Vh"
      }
    }
  ]
}