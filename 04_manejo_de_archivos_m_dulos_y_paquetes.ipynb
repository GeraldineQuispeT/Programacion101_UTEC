{
  "nbformat": 4,
  "nbformat_minor": 0,
  "metadata": {
    "colab": {
      "provenance": [],
      "include_colab_link": true
    },
    "kernelspec": {
      "name": "python3",
      "display_name": "Python 3"
    },
    "language_info": {
      "name": "python"
    }
  },
  "cells": [
    {
      "cell_type": "markdown",
      "metadata": {
        "id": "view-in-github",
        "colab_type": "text"
      },
      "source": [
        "<a href=\"https://colab.research.google.com/github/GeraldineQuispeT/Programacion101_UTEC/blob/main/04_manejo_de_archivos_m_dulos_y_paquetes.ipynb\" target=\"_parent\"><img src=\"https://colab.research.google.com/assets/colab-badge.svg\" alt=\"Open In Colab\"/></a>"
      ]
    },
    {
      "cell_type": "markdown",
      "source": [
        "<img src=\"https://www.ctic.uni.edu.pe/wp-content/uploads/2022/04/588px-x-348px-web-1.png\" alt=\"HTML5 Icon\" width=\"900\" height=\"350\" >\n"
      ],
      "metadata": {
        "id": "VYCA3mfHuKK1"
      }
    },
    {
      "cell_type": "markdown",
      "source": [
        "# Laboratorio de Manejo de Archivos, Módulos y Paquetes"
      ],
      "metadata": {
        "id": "yTCotkPgt1ND"
      }
    },
    {
      "cell_type": "markdown",
      "source": [
        "**Objetivo:**\n",
        "\n",
        "Este laboratorio está diseñado para que los estudiantes comprendan el uso de archivos en Python, cómo leer y escribir datos en ellos, y cómo crear y usar módulos y paquetes. A través de ejercicios prácticos, los estudiantes ganarán experiencia en el manejo de archivos y la organización de código en módulos y paquetes."
      ],
      "metadata": {
        "id": "-N-rAuN7t4Hx"
      }
    },
    {
      "cell_type": "markdown",
      "source": [
        "**Contenido del Laboratorio**\n",
        "\n",
        "1. <a href=\"#item31\">Manejo de Archivos</a>\n",
        "2. <a href=\"#item31\">Módulos y Paquetes</a>\n",
        "3. <a href=\"#item31\">Creación de Módulos</a>\n",
        "4. <a href=\"#item31\">Importación y Uso de Módulos</a>\n",
        "5. <a href=\"#item31\">Estructura de Paquetes</a>\n",
        "\n",
        "</font>\n",
        "</div>\n",
        "\n",
        "\n",
        "---"
      ],
      "metadata": {
        "id": "I7kBfToyt7mb"
      }
    },
    {
      "cell_type": "markdown",
      "source": [
        "## 1. Manejo de Archivos\n"
      ],
      "metadata": {
        "id": "ZVU2O0lWuggb"
      }
    },
    {
      "cell_type": "code",
      "source": [
        "!ls-la"
      ],
      "metadata": {
        "id": "enRvgFchTUwh",
        "outputId": "614fac94-bdcf-4a72-cabe-6d00b3728e58",
        "colab": {
          "base_uri": "https://localhost:8080/"
        }
      },
      "execution_count": 1,
      "outputs": [
        {
          "output_type": "stream",
          "name": "stdout",
          "text": [
            "/bin/bash: line 1: ls-la: command not found\n"
          ]
        }
      ]
    },
    {
      "cell_type": "code",
      "source": [
        "!cd sample_data"
      ],
      "metadata": {
        "id": "n9BpwaWATaXP"
      },
      "execution_count": 2,
      "outputs": []
    },
    {
      "cell_type": "markdown",
      "source": [
        "### 1.1 Conceptos Básicos\n",
        "\n",
        "En Python, se pueden manejar archivos de texto (como .txt o .csv) y archivos binarios. Un archivo tiene una ubicación (ruta) en el sistema, que puede ser relativa (relacionada con el directorio actual) o absoluta (dirección completa desde la raíz del sistema)."
      ],
      "metadata": {
        "id": "Gs_aOoApujEG"
      }
    },
    {
      "cell_type": "markdown",
      "source": [
        "**Ejemplo: Rutas Absolutas y Relativas**"
      ],
      "metadata": {
        "id": "dzA-ji7jumGk"
      }
    },
    {
      "cell_type": "code",
      "execution_count": null,
      "metadata": {
        "id": "21XNjtcyjADn"
      },
      "outputs": [],
      "source": [
        "# Ruta absoluta (dependerá de tu sistema operativo y estructura de archivos)\n",
        "ruta_absoluta = \"C:/Users/Usuario/Documents/archivo.txt\"\n",
        "\n",
        "# Ruta relativa (relativa al directorio de trabajo actual)\n",
        "ruta_relativa = \"datos/archivo.txt\""
      ]
    },
    {
      "cell_type": "markdown",
      "source": [
        "**Ejercicio 1.1:**\n",
        "\n",
        "Define dos variables en tu código:\n",
        "\n",
        "Una ruta absoluta que apunte a un archivo en tu computadora.\n",
        "Una ruta relativa que apunte a un archivo en un subdirectorio llamado data."
      ],
      "metadata": {
        "id": "G6G9COipurdK"
      }
    },
    {
      "cell_type": "code",
      "source": [],
      "metadata": {
        "id": "FSrVIbqRvyr6"
      },
      "execution_count": null,
      "outputs": []
    },
    {
      "cell_type": "markdown",
      "source": [
        "### 1.2 Operaciones Básicas: Lectura y Escritura de Archivos de Texto\n",
        "\n",
        "En Python, se pueden realizar operaciones básicas en archivos usando la función open(). Es necesario especificar el modo de apertura:\n",
        "\n",
        "> \"r\": lectura (por defecto)\n",
        ">\n",
        "> \"w\": escritura (sobrescribe el contenido si el archivo ya existe)\n",
        ">\n",
        "> \"a\": añadir al final del archivo"
      ],
      "metadata": {
        "id": "k634elEDuy05"
      }
    },
    {
      "cell_type": "markdown",
      "source": [
        "**Ejemplo de Apertura de Archivo para Lectura**\n"
      ],
      "metadata": {
        "id": "h0aSUOYWu51i"
      }
    },
    {
      "cell_type": "code",
      "source": [
        "# Abriendo un archivo para lectura\n",
        "archivo = open(\"class_code.txt\", \"r\")#configura el objeto\n",
        "contenido = archivo.read()  # Lee todo el contenido\n",
        "print(contenido)\n",
        "archivo.close()  # Cerrar el archivo para liberar recursos, cierra el objeto\n",
        "#la lectura es tal cual aparece en el archivo"
      ],
      "metadata": {
        "id": "K-hwY4B2vJvt",
        "outputId": "8024bbe9-c5a5-407d-e56a-90e7c3d63ea1",
        "colab": {
          "base_uri": "https://localhost:8080/"
        }
      },
      "execution_count": null,
      "outputs": [
        {
          "output_type": "stream",
          "name": "stdout",
          "text": [
            "Buenas noches\n"
          ]
        }
      ]
    },
    {
      "cell_type": "markdown",
      "source": [
        "**Ejemplo de Escritura en Archivo**"
      ],
      "metadata": {
        "id": "UCpHphLou49u"
      }
    },
    {
      "cell_type": "code",
      "source": [
        "# Abriendo un archivo para escritura\n",
        "archivo = open(\"class_code.txt\", \"w\")\n",
        "archivo.write(\"Escribiendo en el archivo...\\n\")#sobreescribe la primera linea y hace un salto del cursor\n",
        "archivo.write(\"Esta es una nueva línea.\\n\")"
      ],
      "metadata": {
        "id": "IktaMJSSuymu",
        "outputId": "1282a8e0-0eea-4179-cad5-d7d57a6cf293",
        "colab": {
          "base_uri": "https://localhost:8080/"
        }
      },
      "execution_count": null,
      "outputs": [
        {
          "output_type": "execute_result",
          "data": {
            "text/plain": [
              "25"
            ]
          },
          "metadata": {},
          "execution_count": 7
        }
      ]
    },
    {
      "cell_type": "code",
      "source": [
        "# Abriendo un archivo para lectura\n",
        "archivo = open(\"class_code.txt\", \"r\")#configura el objeto\n",
        "contenido = archivo.read()  # Lee todo el contenido\n",
        "print(contenido)\n",
        "archivo.close()  # Cerrar el archivo para liberar recursos, cierra el objeto\n",
        "#la lectura es tal cual aparece en el archivo"
      ],
      "metadata": {
        "id": "hM8X8uBiVxZN",
        "outputId": "ae544afa-d90b-40d9-d5cf-ff36f665030f",
        "colab": {
          "base_uri": "https://localhost:8080/"
        }
      },
      "execution_count": null,
      "outputs": [
        {
          "output_type": "stream",
          "name": "stdout",
          "text": [
            "Escribiendo en el archivo...\n",
            "Esta es una nueva línea.\n",
            "\n"
          ]
        }
      ]
    },
    {
      "cell_type": "code",
      "source": [
        "archivo.close()"
      ],
      "metadata": {
        "id": "U4E6ZSSPVqwc"
      },
      "execution_count": null,
      "outputs": []
    },
    {
      "cell_type": "markdown",
      "source": [
        "**Ejercicio 1.2**\n"
      ],
      "metadata": {
        "id": "H2OCnLpMvwaT"
      }
    },
    {
      "cell_type": "markdown",
      "source": [
        "- Crea un archivo de texto llamado prueba.txt en el cual escribas tres líneas de texto.\n",
        "- Lee el archivo prueba.txt y muestra su contenido en pantalla.\n",
        "- Escribe desde python una modificacion en el archivo"
      ],
      "metadata": {
        "id": "0LESvadIv6FK"
      }
    },
    {
      "cell_type": "code",
      "source": [
        "archivo = open(\"prueba.txt\",\"r\")\n",
        "contenido=archivo.read()\n",
        "print(contenido)"
      ],
      "metadata": {
        "id": "sSESl710V7QK",
        "outputId": "822238b1-2e0c-48e3-917e-ac41920efee7",
        "colab": {
          "base_uri": "https://localhost:8080/"
        }
      },
      "execution_count": null,
      "outputs": [
        {
          "output_type": "stream",
          "name": "stdout",
          "text": [
            "escribe \n",
            "  lineas\n",
            "de texto\n"
          ]
        }
      ]
    },
    {
      "cell_type": "code",
      "source": [
        "from datetime import date\n",
        "\n",
        "archivo =open(\"prueba.txt\",\"w\")\n",
        "archivo.write(\"Log de ejucucion...\\n\")\n",
        "archivo.write(f\"fecha de proceso: {date.today()}\\n\")"
      ],
      "metadata": {
        "id": "v8n71QmsW2oI",
        "outputId": "64ca3205-b353-4ea5-e24e-98d67d142823",
        "colab": {
          "base_uri": "https://localhost:8080/"
        }
      },
      "execution_count": null,
      "outputs": [
        {
          "output_type": "execute_result",
          "data": {
            "text/plain": [
              "29"
            ]
          },
          "metadata": {},
          "execution_count": 12
        }
      ]
    },
    {
      "cell_type": "code",
      "source": [
        "archivo.close()"
      ],
      "metadata": {
        "id": "hVyJd9X9X1bB"
      },
      "execution_count": null,
      "outputs": []
    },
    {
      "cell_type": "code",
      "source": [
        "archivo=open(\"prueba.txt\",\"r\")# es un rupper\n",
        "contenido=archivo.read()\n",
        "print(contenido)"
      ],
      "metadata": {
        "id": "mFpn8rn0YA6o",
        "outputId": "01b1322d-bac6-4308-83df-ec6492111923",
        "colab": {
          "base_uri": "https://localhost:8080/"
        }
      },
      "execution_count": null,
      "outputs": [
        {
          "output_type": "stream",
          "name": "stdout",
          "text": [
            "Log de ejucucion...\n",
            "fecha de proceso: 2024-11-14\n",
            "\n"
          ]
        }
      ]
    },
    {
      "cell_type": "markdown",
      "source": [
        "### 1.3 Leer y Escribir Archivos Línea por Línea"
      ],
      "metadata": {
        "id": "49MrhKW4wJj-"
      }
    },
    {
      "cell_type": "markdown",
      "source": [
        "Podemos leer un archivo línea por línea usando readline() o readlines() para obtener una lista de líneas."
      ],
      "metadata": {
        "id": "NAH7J4cDwMHS"
      }
    },
    {
      "cell_type": "markdown",
      "source": [
        "**Ejemplo de Leer Archivo Línea por Línea**"
      ],
      "metadata": {
        "id": "I5prWHhIwOR0"
      }
    },
    {
      "cell_type": "code",
      "source": [
        "# Leer un archivo línea por línea\n",
        "archivo = open(\"prueba.txt\", \"r\")\n",
        "linea = archivo.readline()\n",
        "while linea:#a lo largo de las lineas en el archivo se hara lo siguiente:\n",
        "    print(linea.strip())  # .strip() elimina los saltos de línea\n",
        "    linea = archivo.readline()\n",
        "archivo.close()\n"
      ],
      "metadata": {
        "colab": {
          "base_uri": "https://localhost:8080/"
        },
        "id": "bWbvPnh2v1EG",
        "outputId": "3a173cd7-d23d-414a-92b8-25470b65e12e"
      },
      "execution_count": null,
      "outputs": [
        {
          "output_type": "stream",
          "name": "stdout",
          "text": [
            "Escribiendo en el archivo...\n",
            "Esta es una nueva línea.\n"
          ]
        }
      ]
    },
    {
      "cell_type": "markdown",
      "source": [
        "**Ejercicio 1.3**\n",
        "\n",
        "- Usa un bucle para leer y mostrar cada línea de un archivo datos.txt.\n",
        "- Crea un programa que cuente el número de líneas de un archivo llamado conteo.txt."
      ],
      "metadata": {
        "id": "G1_QhsBzwfq1"
      }
    },
    {
      "cell_type": "code",
      "source": [
        "def leer_lineas_archivo(nombre_archivo):\n",
        "        with open(nombre_archivo, 'r') as archivo:\n",
        "            # Bucle para leer y mostrar cada línea\n",
        "            for linea in archivo:\n",
        "                print(linea.strip())  # .strip() para quitar saltos de línea adicionales\n",
        "\n",
        "# Llamar a la función para leer el archivo \"datos.txt\"\n",
        "leer_lineas_archivo('datos.txt')"
      ],
      "metadata": {
        "id": "LM1bad4jwimr",
        "colab": {
          "base_uri": "https://localhost:8080/"
        },
        "outputId": "ba8767ca-0ac8-4fcd-e27a-568f3b2be39d"
      },
      "execution_count": 22,
      "outputs": [
        {
          "output_type": "stream",
          "name": "stdout",
          "text": [
            "El uso de with open()\n",
            "es recomendado porque asegura que el archivo se cierre automáticamente después de su uso\n",
            ", lo que previene\n",
            "errores y libera recursos.\n"
          ]
        }
      ]
    },
    {
      "cell_type": "markdown",
      "source": [
        "### 1.4 Uso del Context Manager with open()\n"
      ],
      "metadata": {
        "id": "m2l4oBWywl_B"
      }
    },
    {
      "cell_type": "markdown",
      "source": [
        "El uso de with open() es recomendado porque asegura que el archivo se cierre automáticamente después de su uso, lo que previene errores y libera recursos."
      ],
      "metadata": {
        "id": "Up-s7q33woMI"
      }
    },
    {
      "cell_type": "markdown",
      "source": [
        "Ejemplo de with open()\n"
      ],
      "metadata": {
        "id": "vIGraY8Twr4q"
      }
    },
    {
      "cell_type": "code",
      "source": [
        "# Uso de with open para abrir y leer un archivo\n",
        "with open(\"datos/archivo.txt\", \"r\") as archivo:\n",
        "    contenido = archivo.read()\n",
        "    print(contenido)\n",
        "# Aquí el archivo se cierra automáticamente\n"
      ],
      "metadata": {
        "colab": {
          "base_uri": "https://localhost:8080/"
        },
        "id": "QA-M6yOexDPi",
        "outputId": "df6fc9b8-718a-404c-90ed-93401cec9fc2"
      },
      "execution_count": null,
      "outputs": [
        {
          "output_type": "stream",
          "name": "stdout",
          "text": [
            "Escribiendo en el archivo...\n",
            "Esta es una nueva línea.\n",
            "\n"
          ]
        }
      ]
    },
    {
      "cell_type": "markdown",
      "source": [
        "**Ejercicio 1.4**\n",
        "\n",
        "- Abre un archivo llamado notas.txt usando with open() y lee todo su contenido.\n",
        "- Modifica el archivo notas.txt para agregar tres líneas más al final, usando el modo de apertura a."
      ],
      "metadata": {
        "id": "GbQ7QeT8xLCn"
      }
    },
    {
      "cell_type": "code",
      "source": [],
      "metadata": {
        "id": "K0YYRSGcxRDX"
      },
      "execution_count": null,
      "outputs": []
    },
    {
      "cell_type": "markdown",
      "source": [
        "## 2. Módulos y Paquetes\n"
      ],
      "metadata": {
        "id": "cSShLZQ5xRWI"
      }
    },
    {
      "cell_type": "markdown",
      "source": [
        "## 2.1 Creación de Módulos\n"
      ],
      "metadata": {
        "id": "fzRY5WecxbMG"
      }
    },
    {
      "cell_type": "markdown",
      "source": [
        "Un módulo en Python es simplemente un archivo .py que contiene funciones, clases, o variables, y se puede importar en otros archivos. Vamos a crear un módulo saludos.py con una función para saludar."
      ],
      "metadata": {
        "id": "DCx_9vaNxe2T"
      }
    },
    {
      "cell_type": "markdown",
      "source": [
        "**Ejemplo de Creación de Módulo saludos.py**\n"
      ],
      "metadata": {
        "id": "yX1O0wtdxg89"
      }
    },
    {
      "cell_type": "code",
      "source": [
        "# saludos.py\n",
        "def saludo(nombre):\n",
        "    return f\"Hola, {nombre}!\"\n"
      ],
      "metadata": {
        "id": "pg7EVGUzxgpV"
      },
      "execution_count": null,
      "outputs": []
    },
    {
      "cell_type": "markdown",
      "source": [
        "Luego, en otro archivo, importamos el módulo saludos y usamos la función saludo().\n",
        "\n"
      ],
      "metadata": {
        "id": "Cs3GANvdxoQG"
      }
    },
    {
      "cell_type": "code",
      "source": [
        "# main.py\n",
        "import saludos\n",
        "\n",
        "print(saludos.saludo(\"Juan\"))\n"
      ],
      "metadata": {
        "colab": {
          "base_uri": "https://localhost:8080/"
        },
        "id": "9McXTwGsxqAU",
        "outputId": "3f324eca-207e-420e-b529-c8b04de32d6c"
      },
      "execution_count": null,
      "outputs": [
        {
          "output_type": "stream",
          "name": "stdout",
          "text": [
            "Hola, Juan!\n"
          ]
        }
      ]
    },
    {
      "cell_type": "markdown",
      "source": [
        "**Ejercicio 2.1**\n",
        "\n",
        "Crea un módulo llamado operaciones.py que contenga funciones para sumar, restar, multiplicar y dividir.\n",
        "Crea un archivo main.py que importe operaciones.py y use cada una de sus funciones.\n"
      ],
      "metadata": {
        "id": "INQjskiDx9P9"
      }
    },
    {
      "cell_type": "code",
      "source": [
        "from operaciones import sumar,restar, multiplicar, dividir"
      ],
      "metadata": {
        "id": "6dYSWORYyAx1"
      },
      "execution_count": 23,
      "outputs": []
    },
    {
      "cell_type": "markdown",
      "source": [
        "### 2.2 Importación de Módulos y Paquetes\n"
      ],
      "metadata": {
        "id": "VqstPSeUyDj1"
      }
    },
    {
      "cell_type": "markdown",
      "source": [
        "Para importar un módulo o paquete, usamos la palabra clave import, y si solo queremos importar funciones específicas, usamos from ... import ...."
      ],
      "metadata": {
        "id": "dhofSr0ByHAP"
      }
    },
    {
      "cell_type": "markdown",
      "source": [
        "**Ejemplo de Importación de Módulos**"
      ],
      "metadata": {
        "id": "poVE0Vn4yJyG"
      }
    },
    {
      "cell_type": "code",
      "source": [
        "# Importar módulo entero\n",
        "import math\n",
        "print(math.sqrt(16))  # Calcular la raíz cuadrada de 16\n",
        "\n",
        "# Importar función específica\n",
        "from math import pow\n",
        "print(pow(2, 3))  # 2 elevado a la 3\n"
      ],
      "metadata": {
        "id": "pm9boeWMyMYO",
        "colab": {
          "base_uri": "https://localhost:8080/"
        },
        "outputId": "7fb10c31-64c3-4f1a-b330-8ca1033c3c5b"
      },
      "execution_count": 19,
      "outputs": [
        {
          "output_type": "stream",
          "name": "stdout",
          "text": [
            "4.0\n",
            "8.0\n"
          ]
        }
      ]
    },
    {
      "cell_type": "markdown",
      "source": [
        "**Ejercicio 2.2**\n",
        "\n",
        "Crea un módulo llamado calculos.py que incluya una función para calcular el área de un círculo.\n",
        "Importa y usa esta función en un archivo llamado main.py."
      ],
      "metadata": {
        "id": "5YYcEhpMyPOv"
      }
    },
    {
      "cell_type": "code",
      "source": [
        "from calculos import area_circulo\n",
        "\n",
        "# Pedir al usuario el radio del círculo\n",
        "radio = float(input(\"Ingresa el radio del círculo: \"))\n",
        "\n",
        "# Calcular el área usando la función\n",
        "area = area_circulo(radio)\n",
        "\n",
        "# Mostrar el resultado\n",
        "print(f\"El área del círculo con radio {radio} es: {area:.2f}\")"
      ],
      "metadata": {
        "id": "Skw5HTWAyX_C",
        "colab": {
          "base_uri": "https://localhost:8080/"
        },
        "outputId": "b7da6bcf-8765-4f30-ed56-b38f60a651ef"
      },
      "execution_count": 17,
      "outputs": [
        {
          "output_type": "stream",
          "name": "stdout",
          "text": [
            "Ingresa el radio del círculo: 5\n",
            "El área del círculo con radio 5.0 es: 78.54\n"
          ]
        }
      ]
    },
    {
      "cell_type": "code",
      "source": [
        "!python main.py"
      ],
      "metadata": {
        "id": "CJ6lAxtWEzUa",
        "outputId": "f15d19cc-a15b-4471-fb63-79c96a0c55a3",
        "colab": {
          "base_uri": "https://localhost:8080/"
        }
      },
      "execution_count": 18,
      "outputs": [
        {
          "output_type": "stream",
          "name": "stdout",
          "text": [
            "Ingresa el radio del círculo: 5\n",
            "El área del círculo con radio 5.0 es: 78.54\n"
          ]
        }
      ]
    },
    {
      "cell_type": "markdown",
      "source": [
        "### 2.3 Creación y Uso de Paquetes\n"
      ],
      "metadata": {
        "id": "BWjgML5kyXmo"
      }
    },
    {
      "cell_type": "markdown",
      "source": [
        "Un paquete en Python es una carpeta que contiene uno o más módulos y un archivo __init__.py. El archivo __init__.py indica a Python que la carpeta debe ser tratada como un paquete."
      ],
      "metadata": {
        "id": "Z7ziZabzybru"
      }
    },
    {
      "cell_type": "markdown",
      "source": [
        "**Ejemplo de Estructura de Paquete**\n",
        "Supongamos que queremos crear un paquete llamado mi_paquete con dos módulos: saludos.py y operaciones.py."
      ],
      "metadata": {
        "id": "P_S-NSAhygoW"
      }
    },
    {
      "cell_type": "code",
      "source": [
        "mi_paquete/\n",
        "    __init__.py\n",
        "    saludos.py\n",
        "    operaciones.py"
      ],
      "metadata": {
        "id": "iA03kuUNyGkU"
      },
      "execution_count": null,
      "outputs": []
    },
    {
      "cell_type": "markdown",
      "source": [
        "Dentro de **mi_paquete**, crea los siguientes archivos:\n",
        "\n",
        "- __init__.py: Este archivo puede estar vacío, pero su presencia indica a Python que mi_paquete es un paquete. (Desde Python 3.3 ya no es obligatorio para que funcione, pero es una buena práctica incluirlo).\n",
        "\n",
        "- saludos.py: Contendrá la función saludo().\n",
        "\n",
        "- operaciones.py: Contendrá las funciones suma(), resta(), multiplicacion(), y division()."
      ],
      "metadata": {
        "id": "duZDkgDaynmy"
      }
    },
    {
      "cell_type": "markdown",
      "source": [
        "En main.py, importamos el paquete:"
      ],
      "metadata": {
        "id": "quTst3yMyupY"
      }
    },
    {
      "cell_type": "code",
      "source": [
        "from mi_paquete import saludos, operaciones\n",
        "\n",
        "print(saludos.saludo(\"Ana\"))\n",
        "print(operaciones.suma(5, 3))\n"
      ],
      "metadata": {
        "id": "y8oYkqOHywv-"
      },
      "execution_count": null,
      "outputs": []
    },
    {
      "cell_type": "markdown",
      "source": [
        "**Ejercicio 2.3**\n",
        "\n",
        "- Crea un paquete llamado herramientas con dos módulos: texto.py y numeros.py.\n",
        "- texto.py debe incluir una función para contar palabras en un texto.\n",
        "- numeros.py debe incluir una función para encontrar el máximo en una lista de números.\n",
        "- Importa y usa estas funciones en un archivo test_paquete.py."
      ],
      "metadata": {
        "id": "4PjNh0DLy0au"
      }
    },
    {
      "cell_type": "code",
      "source": [
        "from texto import contar_palabras\n",
        "\n",
        "texto = \"Texto para contar palabras\"\n",
        "resultado = contar_palabras(texto)\n",
        "print(f\"El número de palabras es: {resultado}\")"
      ],
      "metadata": {
        "id": "mrrcEeDxymqm",
        "colab": {
          "base_uri": "https://localhost:8080/"
        },
        "outputId": "caa21d9d-872f-4341-b200-e369e67a85e3"
      },
      "execution_count": 14,
      "outputs": [
        {
          "output_type": "stream",
          "name": "stdout",
          "text": [
            "El número de palabras es: 4\n"
          ]
        }
      ]
    },
    {
      "cell_type": "code",
      "source": [
        "from numeros import encontrar_maximo\n",
        "\n",
        "numeros =  [22,22, 11,10,850]\n",
        "maximo = encontrar_maximo(numeros)\n",
        "print(f\"El número máximo es: {maximo}\")"
      ],
      "metadata": {
        "colab": {
          "base_uri": "https://localhost:8080/"
        },
        "id": "dxQd6CzVsqbU",
        "outputId": "9e09f619-f789-4567-a1df-48d698fd85c0"
      },
      "execution_count": 15,
      "outputs": [
        {
          "output_type": "stream",
          "name": "stdout",
          "text": [
            "El número máximo es: 850\n"
          ]
        }
      ]
    },
    {
      "cell_type": "code",
      "source": [
        "!python test_paquete.py"
      ],
      "metadata": {
        "colab": {
          "base_uri": "https://localhost:8080/"
        },
        "id": "DkBWlTkpuSl1",
        "outputId": "b06c83de-bc63-4719-ec55-991326ab7a67"
      },
      "execution_count": 16,
      "outputs": [
        {
          "output_type": "stream",
          "name": "stdout",
          "text": [
            "El número de palabras en el texto es: 4\n",
            "El número máximo en la lista es: 850\n"
          ]
        }
      ]
    },
    {
      "cell_type": "markdown",
      "source": [
        "## Conclusión del Laboratorio\n",
        "\n",
        "Este laboratorio proporciona una introducción práctica al manejo de archivos y la creación de módulos y paquetes en Python. Los ejercicios ofrecen práctica en la organización de código y en el uso de archivos, lo cual es esencial para la estructuración de proyectos en Python."
      ],
      "metadata": {
        "id": "S_Waz_tQy6m7"
      }
    },
    {
      "cell_type": "markdown",
      "source": [
        "---\n",
        "\n",
        "# Gracias por completar este laboratorio!\n",
        "\n",
        "---"
      ],
      "metadata": {
        "id": "wXJ_U_6ay_qH"
      }
    }
  ]
}